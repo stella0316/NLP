{
 "cells": [
  {
   "cell_type": "code",
   "execution_count": 138,
   "metadata": {},
   "outputs": [],
   "source": [
    "import pandas as pd\n",
    "import os\n",
    "import numpy as np\n",
    "from sklearn.utils import shuffle\n",
    "from collections import Counter\n",
    "import random\n",
    "import matplotlib.pyplot as plt\n",
    "from nltk.util import ngrams\n",
    "import nltk\n",
    "import spacy\n",
    "import string\n",
    "import pickle as pkl\n",
    "\n",
    "nltk.download('punkt')\n",
    "%matplotlib inline"
   ]
  },
  {
   "cell_type": "markdown",
   "metadata": {},
   "source": [
    "    Step 1: Read data"
   ]
  },
  {
   "cell_type": "code",
   "execution_count": 33,
   "metadata": {},
   "outputs": [],
   "source": [
    "data_file_path = os.getcwd() + '/data'"
   ]
  },
  {
   "cell_type": "code",
   "execution_count": 60,
   "metadata": {},
   "outputs": [],
   "source": [
    "def read_data(data_file_path):\n",
    "    #read files from train and test folders separately\n",
    "    for folders in ['train','test']:\n",
    "        path = data_file_path + '/' + folders\n",
    "        pos = list()\n",
    "        for f in os.listdir(path + '/pos'):\n",
    "            if f.split('.')[1] == 'txt':\n",
    "                f_content = open(path + '/pos/' + f, 'r+')\n",
    "                pos.append(f_content.read())\n",
    "    \n",
    "        y_pos = np.ones(len(pos))  \n",
    "    \n",
    "        neg = list()\n",
    "        for m in os.listdir(path + '/neg'):\n",
    "            if m.split('.')[1] == 'txt':\n",
    "                m_content = open(path + '/neg/' + m, 'r+')\n",
    "                neg.append(m_content.read())\n",
    "        y_neg = np.zeros(len(neg))\n",
    "        \n",
    "        if folders == 'train':\n",
    "            train = pd.DataFrame({'reviews': pos,'y':y_pos}).append(pd.DataFrame({'reviews': neg,'y':y_neg}))\n",
    "        if folders == 'test':\n",
    "            test = pd.DataFrame({'reviews': pos,'y':y_pos}).append(pd.DataFrame({'reviews': neg,'y':y_neg}))\n",
    "        \n",
    "    # Split train data into actual train and validation sets\n",
    "    shuffle(train)\n",
    "    train_split = 20000\n",
    "    train_data = train[:train_split]\n",
    "    vali_data = train[train_split:]\n",
    "    \n",
    "    return train_data, vali_data, test"
   ]
  },
  {
   "cell_type": "code",
   "execution_count": 477,
   "metadata": {},
   "outputs": [],
   "source": [
    "train, vali, test = read_data(data_file_path)"
   ]
  },
  {
   "cell_type": "code",
   "execution_count": 478,
   "metadata": {},
   "outputs": [
    {
     "name": "stdout",
     "output_type": "stream",
     "text": [
      "Train dataset size is 20000\n",
      "Val dataset size is 5000\n",
      "Test dataset size is 25000\n"
     ]
    }
   ],
   "source": [
    "print (\"Train dataset size is {}\".format(len(train)))\n",
    "print (\"Val dataset size is {}\".format(len(vali)))\n",
    "print (\"Test dataset size is {}\".format(len(test)))"
   ]
  },
  {
   "cell_type": "markdown",
   "metadata": {},
   "source": [
    "    Step 2: Tokenize"
   ]
  },
  {
   "cell_type": "markdown",
   "metadata": {},
   "source": [
    "1-gram tokenize"
   ]
  },
  {
   "cell_type": "code",
   "execution_count": 76,
   "metadata": {},
   "outputs": [],
   "source": [
    "punctuations = string.punctuation\n",
    "\n",
    "#use nltk to tokenize the dataset, which is faster\n",
    "#and implement n-grams all at one function\n",
    "def tokenize_dataset_ngram(dataset,n_gram):\n",
    "    token_dataset = []\n",
    "    all_tokens = []\n",
    "    \n",
    "    for text in dataset:\n",
    "        #tokenize and remove punctuations\n",
    "        tokens = nltk.word_tokenize(text)\n",
    "        tokens = [token.lower() for token in tokens if (token not in punctuations)]\n",
    "        \n",
    "        n_grams_tokens = ngrams(tokens,n_gram)\n",
    "        n_grams_tokens = [ ' '.join(grams) for grams in n_grams_tokens]\n",
    "        token_dataset.append(n_grams_tokens)\n",
    "        all_tokens += n_grams_tokens\n",
    "\n",
    "    return token_dataset, all_tokens\n"
   ]
  },
  {
   "cell_type": "code",
   "execution_count": 364,
   "metadata": {},
   "outputs": [
    {
     "name": "stdout",
     "output_type": "stream",
     "text": [
      "Tokenizing validation data\n",
      "Tokenizing test data\n",
      "Tokenizing train data\n"
     ]
    }
   ],
   "source": [
    "#save all tokens in local for convenience\n",
    "# val set tokens\n",
    "print (\"Tokenizing validation data\")\n",
    "vali_data_tokens, _ = tokenize_dataset_ngram(vali['reviews'],1)\n",
    "pkl.dump(vali_data_tokens, open(\"token data/vali_data_tokens.p\", \"wb\"))\n",
    "\n",
    "# test set tokens\n",
    "print (\"Tokenizing test data\")\n",
    "test_data_tokens, _ = tokenize_dataset_ngram(test['reviews'],1)\n",
    "pkl.dump(test_data_tokens, open(\"token data/test_data_tokens.p\", \"wb\"))\n",
    "\n",
    "# train set tokens\n",
    "print (\"Tokenizing train data\")\n",
    "train_data_tokens, all_train_tokens = tokenize_dataset_ngram(train['reviews'],1)\n",
    "pkl.dump(train_data_tokens, open(\"token data/train_data_tokens.p\", \"wb\"))\n",
    "pkl.dump(all_train_tokens, open(\"token data/all_train_tokens.p\", \"wb\"))"
   ]
  },
  {
   "cell_type": "code",
   "execution_count": 365,
   "metadata": {},
   "outputs": [
    {
     "name": "stdout",
     "output_type": "stream",
     "text": [
      "Train dataset size is 20000\n",
      "Val dataset size is 5000\n",
      "Test dataset size is 25000\n",
      "Total number of tokens in train dataset is 4858141\n"
     ]
    }
   ],
   "source": [
    "#check dataset size before move on to next step\n",
    "print (\"Train dataset size is {}\".format(len(train_data_tokens)))\n",
    "print (\"Val dataset size is {}\".format(len(vali_data_tokens)))\n",
    "print (\"Test dataset size is {}\".format(len(test_data_tokens)))\n",
    "\n",
    "print (\"Total number of tokens in train dataset is {}\".format(len(all_train_tokens)))"
   ]
  },
  {
   "cell_type": "code",
   "execution_count": 505,
   "metadata": {},
   "outputs": [],
   "source": [
    "max_vocab_size = 10000\n",
    "# save index 0 for unk and 1 for pad\n",
    "PAD_IDX = 0\n",
    "UNK_IDX = 1\n",
    "\n",
    "def build_vocab(all_tokens,vocab_size):\n",
    "    # Returns:\n",
    "    # id2token: list of tokens, where id2token[i] returns token that corresponds to token i\n",
    "    # token2id: dictionary where keys represent tokens and corresponding values represent indices\n",
    "    token_counter = Counter(all_tokens)\n",
    "    vocab, count = zip(*token_counter.most_common(vocab_size))\n",
    "    id2token = list(vocab)\n",
    "    token2id = dict(zip(vocab, range(2,2+len(vocab)))) \n",
    "    id2token = ['<pad>', '<unk>'] + id2token\n",
    "    token2id['<pad>'] = PAD_IDX \n",
    "    token2id['<unk>'] = UNK_IDX\n",
    "    return token2id, id2token"
   ]
  },
  {
   "cell_type": "code",
   "execution_count": 88,
   "metadata": {},
   "outputs": [],
   "source": [
    "token2id, id2token = build_vocab(all_train_tokens,max_vocab_size)"
   ]
  },
  {
   "cell_type": "code",
   "execution_count": 92,
   "metadata": {},
   "outputs": [
    {
     "name": "stdout",
     "output_type": "stream",
     "text": [
      "Token id 3040 ; token patient\n",
      "Token patient; token id 3040\n"
     ]
    }
   ],
   "source": [
    "# Lets check the dictionary by loading random token from it\n",
    "random_token_id = random.randint(0, len(id2token)-1)\n",
    "random_token = id2token[random_token_id]\n",
    "\n",
    "print (\"Token id {} ; token {}\".format(random_token_id, id2token[random_token_id]))\n",
    "print (\"Token {}; token id {}\".format(random_token, token2id[random_token]))"
   ]
  },
  {
   "cell_type": "code",
   "execution_count": 470,
   "metadata": {},
   "outputs": [
    {
     "name": "stdout",
     "output_type": "stream",
     "text": [
      "Train dataset size is 20000\n",
      "Val dataset size is 5000\n",
      "Test dataset size is 25000\n"
     ]
    }
   ],
   "source": [
    "# convert token to id in the dataset\n",
    "def token2index_dataset(tokens_data,token2id):\n",
    "    indices_data = []\n",
    "    for tokens in tokens_data:\n",
    "        index_list = [token2id[token] if token in token2id else UNK_IDX for token in tokens]\n",
    "        indices_data.append(index_list)\n",
    "    return indices_data\n",
    "\n",
    "train_data_indices = token2index_dataset(train_data_tokens,token2id)\n",
    "vali_data_indices = token2index_dataset(vali_data_tokens,token2id)\n",
    "test_data_indices = token2index_dataset(test_data_tokens,token2id)\n",
    "\n",
    "# double checking\n",
    "print (\"Train dataset size is {}\".format(len(train_data_indices)))\n",
    "print (\"Val dataset size is {}\".format(len(vali_data_indices)))\n",
    "print (\"Test dataset size is {}\".format(len(test_data_indices)))"
   ]
  },
  {
   "cell_type": "markdown",
   "metadata": {},
   "source": [
    "    Step 3: PyTorch"
   ]
  },
  {
   "cell_type": "code",
   "execution_count": 434,
   "metadata": {},
   "outputs": [],
   "source": [
    "MAX_SENTENCE_LENGTH = 200\n",
    "\n",
    "import numpy as np\n",
    "import torch\n",
    "from torch.utils.data import Dataset\n",
    "import torch\n",
    "import torch.nn as nn\n",
    "import torch.nn.functional as F\n",
    "\n",
    "class MoviewReviewDataset(Dataset):\n",
    "    \"\"\"\n",
    "    Class that represents a train/validation/test dataset that's readable for PyTorch\n",
    "    Note that this class inherits torch.utils.data.Dataset\n",
    "    \"\"\"\n",
    "    \n",
    "    def __init__(self, data_list, target_list):\n",
    "        \"\"\"\n",
    "        @param data_list: list of newsgroup tokens \n",
    "        @param target_list: list of newsgroup targets \n",
    "\n",
    "        \"\"\"\n",
    "        self.data_list = data_list\n",
    "        self.target_list = target_list\n",
    "        assert (len(self.data_list) == len(self.target_list))\n",
    "\n",
    "    def __len__(self):\n",
    "        return len(self.data_list)\n",
    "        \n",
    "    def __getitem__(self, key):\n",
    "        \"\"\"\n",
    "        Triggered when you call dataset[i]\n",
    "        \"\"\"\n",
    "        \n",
    "        token_idx = self.data_list[key][:MAX_SENTENCE_LENGTH]\n",
    "        label = self.target_list[key]\n",
    "        return [token_idx, len(token_idx), label]\n",
    "\n",
    "def moviereview_collate_func(batch):\n",
    "    \"\"\"\n",
    "    Customized function for DataLoader that dynamically pads the batch so that all \n",
    "    data have the same length\n",
    "    \"\"\"\n",
    "    data_list = []\n",
    "    label_list = []\n",
    "    length_list = []\n",
    "    #print(\"collate batch: \", batch[0][0])\n",
    "    #batch[0][0] = batch[0][0][:MAX_SENTENCE_LENGTH]\n",
    "    for datum in batch:\n",
    "        label_list.append(datum[2])\n",
    "        length_list.append(datum[1])\n",
    "    # padding\n",
    "    for datum in batch:\n",
    "        padded_vec = np.pad(np.array(datum[0]), \n",
    "                                pad_width=((0,MAX_SENTENCE_LENGTH-datum[1])), \n",
    "                                mode=\"constant\", constant_values=0)\n",
    "        data_list.append(padded_vec)\n",
    "    return [torch.from_numpy(np.array(data_list)), torch.LongTensor(length_list), torch.LongTensor(label_list)]\n"
   ]
  },
  {
   "cell_type": "code",
   "execution_count": 120,
   "metadata": {},
   "outputs": [],
   "source": [
    "def create_data_loader(batch_size,data,label):\n",
    "    dataset = MoviewReviewDataset(data, list(label))\n",
    "    data_loader = torch.utils.data.DataLoader(dataset=dataset, \n",
    "                                           batch_size=batch_size,\n",
    "                                           collate_fn=moviereview_collate_func,\n",
    "                                           shuffle=True)\n",
    "    return data_loader"
   ]
  },
  {
   "cell_type": "code",
   "execution_count": 103,
   "metadata": {},
   "outputs": [],
   "source": [
    "class BagOfWords(nn.Module):\n",
    "    \"\"\"\n",
    "    BagOfWords classification model\n",
    "    \"\"\"\n",
    "    def __init__(self, vocab_size, emb_dim):\n",
    "        \"\"\"\n",
    "        @param vocab_size: size of the vocabulary. \n",
    "        @param emb_dim: size of the word embedding\n",
    "        \"\"\"\n",
    "        super(BagOfWords, self).__init__()\n",
    "        # pay attention to padding_idx \n",
    "        self.embed = nn.Embedding(vocab_size, emb_dim, padding_idx=0)\n",
    "        self.linear = nn.Linear(emb_dim,20)\n",
    "    \n",
    "    def forward(self, data, length):\n",
    "        \"\"\"\n",
    "        \n",
    "        @param data: matrix of size (batch_size, max_sentence_length). Each row in data represents a \n",
    "            review that is represented using n-gram index. Note that they are padded to have same length.\n",
    "        @param length: an int tensor of size (batch_size), which represents the non-trivial (excludes padding)\n",
    "            length of each sentences in the data.\n",
    "        \"\"\"\n",
    "        out = self.embed(data)\n",
    "        out = torch.sum(out, dim=1)\n",
    "        out /= length.view(length.size()[0],1).expand_as(out).float()\n",
    "     \n",
    "        # return logits\n",
    "        out = self.linear(out.float())\n",
    "        return out"
   ]
  },
  {
   "cell_type": "code",
   "execution_count": 450,
   "metadata": {},
   "outputs": [],
   "source": [
    "# Function for testing the model\n",
    "def test_model(loader, model):\n",
    "    \"\"\"\n",
    "    Help function that tests the model's performance on a dataset\n",
    "    @param: loader - data loader for the dataset to test against\n",
    "    \"\"\"\n",
    "    correct = 0\n",
    "    total = 0\n",
    "    loss_val = 0\n",
    "    model.eval()\n",
    "    \n",
    "    for data, lengths, labels in loader:\n",
    "        data_batch, length_batch, label_batch = data, lengths, labels\n",
    "        outputs = F.softmax(model(data_batch, length_batch), dim=1)\n",
    "        predicted = outputs.max(1, keepdim=True)[1]\n",
    "        loss = criterion(outputs, label_batch)\n",
    "        \n",
    "        \n",
    "        loss_val += loss.item() * len(data) / len(loader.dataset)\n",
    "        total += labels.size(0)\n",
    "        correct += predicted.eq(labels.view_as(predicted)).sum().item()\n",
    "        \n",
    "        \n",
    "    return (100 * correct / total),loss_val\n"
   ]
  },
  {
   "cell_type": "code",
   "execution_count": 621,
   "metadata": {},
   "outputs": [],
   "source": [
    "def run_model(num_epochs,train_loader,model,optimizer,vali_loader):\n",
    "    train_loss_history = []\n",
    "\n",
    "    \n",
    "    for epoch in range(num_epochs):\n",
    "        running_loss = 0\n",
    "        for i, (data, lengths, labels) in enumerate(train_loader):\n",
    "            model.train()\n",
    "            data_batch, length_batch, label_batch = data, lengths, labels\n",
    "            optimizer.zero_grad()\n",
    "            outputs = model(data_batch, length_batch)\n",
    "            loss = criterion(outputs, label_batch)\n",
    "            loss.backward()\n",
    "            optimizer.step()\n",
    "        \n",
    "            running_loss += loss.item() * len(data) / len(train_loader.dataset)\n",
    "    \n",
    "        vali_acc,vali_loss = test_model(vali_loader, model)\n",
    "        train_loss_history.append(running_loss)\n",
    "\n",
    "        print('Epoch: [{}/{}],Validation Acc: {}'.format( \n",
    "                               epoch+1, num_epochs, vali_acc))\n",
    "        \n",
    "    return train_loss_history\n",
    "            "
   ]
  },
  {
   "cell_type": "code",
   "execution_count": null,
   "metadata": {},
   "outputs": [],
   "source": [
    "BATCH_SIZE = 32\n",
    "train_loader = create_data_loader(BATCH_SIZE,train_data_indices,train['y'])\n",
    "vali_loader = create_data_loader(BATCH_SIZE,vali_data_indices,vali['y'])\n",
    "test_loader = create_data_loader(BATCH_SIZE,test_data_indices,test['y'])"
   ]
  },
  {
   "cell_type": "markdown",
   "metadata": {},
   "source": [
    "    Without tunning hyperparameters"
   ]
  },
  {
   "cell_type": "code",
   "execution_count": 619,
   "metadata": {},
   "outputs": [],
   "source": [
    "emb_dim = 100\n",
    "model = BagOfWords(len(id2token), emb_dim)\n",
    "learning_rate = 0.01\n",
    "num_epochs = 10 # number epoch to train\n",
    "\n",
    "# Criterion and Optimizer\n",
    "criterion = torch.nn.CrossEntropyLoss()\n",
    "optimizer = torch.optim.Adam(model.parameters(), lr=learning_rate)\n"
   ]
  },
  {
   "cell_type": "code",
   "execution_count": 623,
   "metadata": {},
   "outputs": [
    {
     "name": "stdout",
     "output_type": "stream",
     "text": [
      "Epoch: [1/10],Validation Acc: 84.08\n",
      "Epoch: [2/10],Validation Acc: 75.22\n",
      "Epoch: [3/10],Validation Acc: 79.06\n",
      "Epoch: [4/10],Validation Acc: 74.42\n",
      "Epoch: [5/10],Validation Acc: 76.88\n",
      "Epoch: [6/10],Validation Acc: 78.94\n",
      "Epoch: [7/10],Validation Acc: 79.48\n",
      "Epoch: [8/10],Validation Acc: 78.32\n",
      "Epoch: [9/10],Validation Acc: 78.72\n",
      "Epoch: [10/10],Validation Acc: 77.78\n"
     ]
    }
   ],
   "source": [
    "train_loss = run_model(num_epochs,train_loader,model,optimizer,vali_loader)"
   ]
  },
  {
   "cell_type": "code",
   "execution_count": 282,
   "metadata": {},
   "outputs": [
    {
     "name": "stdout",
     "output_type": "stream",
     "text": [
      "After training for 10 epochs\n",
      "Val Acc (72.66, 2.3511073375701894)\n",
      "Test Acc (79.168, 2.2855968953704866)\n"
     ]
    }
   ],
   "source": [
    "print(\"After training for {} epochs\".format(num_epochs))\n",
    "print (\"Val Acc {0}\".format(test_model(vali_loader, model)[0]))"
   ]
  },
  {
   "cell_type": "code",
   "execution_count": 624,
   "metadata": {},
   "outputs": [
    {
     "data": {
      "text/plain": [
       "<matplotlib.legend.Legend at 0x1b523234e0>"
      ]
     },
     "execution_count": 624,
     "metadata": {},
     "output_type": "execute_result"
    },
    {
     "data": {
      "image/png": "[encoded data removed]",
      "text/plain": [
       "<Figure size 432x288 with 1 Axes>"
      ]
     },
     "metadata": {
      "needs_background": "light"
     },
     "output_type": "display_data"
    }
   ],
   "source": [
    "plt.plot(train_loss,label = 'training loss')\n",
    "plt.title(\"training curve with default hyper-parameters\")\n",
    "plt.xlabel(\"epoch\")\n",
    "plt.ylabel(\"training loss\")\n",
    "plt.legend()"
   ]
  },
  {
   "cell_type": "markdown",
   "metadata": {},
   "source": [
    "    Tune Hyper-Parameters: learning_rates"
   ]
  },
  {
   "cell_type": "code",
   "execution_count": 631,
   "metadata": {},
   "outputs": [
    {
     "name": "stdout",
     "output_type": "stream",
     "text": [
      "learning rate:0.01\n",
      "Epoch: [1/10],Validation Acc: 84.34\n",
      "Epoch: [2/10],Validation Acc: 84.1\n",
      "Epoch: [3/10],Validation Acc: 76.94\n",
      "Epoch: [4/10],Validation Acc: 75.56\n",
      "Epoch: [5/10],Validation Acc: 76.2\n",
      "Epoch: [6/10],Validation Acc: 79.06\n",
      "Epoch: [7/10],Validation Acc: 76.04\n",
      "Epoch: [8/10],Validation Acc: 77.64\n",
      "Epoch: [9/10],Validation Acc: 78.1\n",
      "Epoch: [10/10],Validation Acc: 78.68\n",
      "learning rate:0.05\n",
      "Epoch: [1/10],Validation Acc: 83.32\n",
      "Epoch: [2/10],Validation Acc: 67.14\n",
      "Epoch: [3/10],Validation Acc: 71.0\n",
      "Epoch: [4/10],Validation Acc: 83.52\n",
      "Epoch: [5/10],Validation Acc: 80.2\n",
      "Epoch: [6/10],Validation Acc: 72.72\n",
      "Epoch: [7/10],Validation Acc: 70.82\n",
      "Epoch: [8/10],Validation Acc: 77.1\n",
      "Epoch: [9/10],Validation Acc: 81.66\n",
      "Epoch: [10/10],Validation Acc: 75.76\n",
      "learning rate:0.1\n",
      "Epoch: [1/10],Validation Acc: 75.96\n",
      "Epoch: [2/10],Validation Acc: 90.46\n",
      "Epoch: [3/10],Validation Acc: 68.52\n",
      "Epoch: [4/10],Validation Acc: 65.28\n",
      "Epoch: [5/10],Validation Acc: 79.9\n",
      "Epoch: [6/10],Validation Acc: 81.68\n",
      "Epoch: [7/10],Validation Acc: 66.56\n",
      "Epoch: [8/10],Validation Acc: 80.86\n",
      "Epoch: [9/10],Validation Acc: 75.12\n",
      "Epoch: [10/10],Validation Acc: 68.9\n"
     ]
    }
   ],
   "source": [
    "emb_dim = 100\n",
    "learning_rates = [0.01,0.05,0.1]\n",
    "num_epochs = 10\n",
    "\n",
    "loss_history = []\n",
    "\n",
    "for lr in learning_rates:\n",
    "    \n",
    "    # Criterion and Optimizer\n",
    "    criterion = torch.nn.CrossEntropyLoss()\n",
    "    model = BagOfWords(len(id2token), emb_dim)\n",
    "    optimizer = torch.optim.Adam(model.parameters(), lr=lr)\n",
    "    \n",
    "    print(\"learning rate:{}\".format(lr))\n",
    "    train_loss = run_model(num_epochs,train_loader,model,optimizer,vali_loader)\n",
    "    loss_history.append(train_loss)\n",
    "\n",
    "    "
   ]
  },
  {
   "cell_type": "code",
   "execution_count": 632,
   "metadata": {},
   "outputs": [
    {
     "data": {
      "text/plain": [
       "<matplotlib.legend.Legend at 0x1b52becc18>"
      ]
     },
     "execution_count": 632,
     "metadata": {},
     "output_type": "execute_result"
    },
    {
     "data": {
      "image/png": "[encoded data removed]",
      "text/plain": [
       "<Figure size 432x288 with 1 Axes>"
      ]
     },
     "metadata": {
      "needs_background": "light"
     },
     "output_type": "display_data"
    }
   ],
   "source": [
    "for (i,lr) in enumerate(learning_rates):\n",
    "    plt.plot(loss_history[i],label = 'learning rates =  {}'.format(lr))\n",
    "\n",
    "plt.title(\"training curve with different learning rates\")\n",
    "plt.xlabel(\"epoch\")\n",
    "plt.ylabel(\"training loss\")\n",
    "plt.legend()"
   ]
  },
  {
   "cell_type": "code",
   "execution_count": 633,
   "metadata": {},
   "outputs": [],
   "source": [
    "learning_rate_result = pd.DataFrame({'Learning_Rate':[0.01,0.05,0.10],'Optimizer':'Adam','Embedding_Size':100,'Vocabulary_Size':10000,'Max_Validation_Accuracy':[84.34,83.53,90.46],'Last_Validation_Accuracy':[78.68,75.76,68.9]})"
   ]
  },
  {
   "cell_type": "code",
   "execution_count": 634,
   "metadata": {},
   "outputs": [
    {
     "data": {
      "text/html": [
       "<div>\n",
       "<style scoped>\n",
       "    .dataframe tbody tr th:only-of-type {\n",
       "        vertical-align: middle;\n",
       "    }\n",
       "\n",
       "    .dataframe tbody tr th {\n",
       "        vertical-align: top;\n",
       "    }\n",
       "\n",
       "    .dataframe thead th {\n",
       "        text-align: right;\n",
       "    }\n",
       "</style>\n",
       "<table border=\"1\" class=\"dataframe\">\n",
       "  <thead>\n",
       "    <tr style=\"text-align: right;\">\n",
       "      <th></th>\n",
       "      <th>Learning_Rate</th>\n",
       "      <th>Optimizer</th>\n",
       "      <th>Embedding_Size</th>\n",
       "      <th>Vocabulary_Size</th>\n",
       "      <th>Max_Validation_Accuracy</th>\n",
       "      <th>Last_Validation_Accuracy</th>\n",
       "    </tr>\n",
       "  </thead>\n",
       "  <tbody>\n",
       "    <tr>\n",
       "      <th>0</th>\n",
       "      <td>0.01</td>\n",
       "      <td>Adam</td>\n",
       "      <td>100</td>\n",
       "      <td>10000</td>\n",
       "      <td>84.34</td>\n",
       "      <td>78.68</td>\n",
       "    </tr>\n",
       "    <tr>\n",
       "      <th>1</th>\n",
       "      <td>0.05</td>\n",
       "      <td>Adam</td>\n",
       "      <td>100</td>\n",
       "      <td>10000</td>\n",
       "      <td>83.53</td>\n",
       "      <td>75.76</td>\n",
       "    </tr>\n",
       "    <tr>\n",
       "      <th>2</th>\n",
       "      <td>0.10</td>\n",
       "      <td>Adam</td>\n",
       "      <td>100</td>\n",
       "      <td>10000</td>\n",
       "      <td>90.46</td>\n",
       "      <td>68.90</td>\n",
       "    </tr>\n",
       "  </tbody>\n",
       "</table>\n",
       "</div>"
      ],
      "text/plain": [
       "   Learning_Rate Optimizer  Embedding_Size  Vocabulary_Size  \\\n",
       "0           0.01      Adam             100            10000   \n",
       "1           0.05      Adam             100            10000   \n",
       "2           0.10      Adam             100            10000   \n",
       "\n",
       "   Max_Validation_Accuracy  Last_Validation_Accuracy  \n",
       "0                    84.34                     78.68  \n",
       "1                    83.53                     75.76  \n",
       "2                    90.46                     68.90  "
      ]
     },
     "execution_count": 634,
     "metadata": {},
     "output_type": "execute_result"
    }
   ],
   "source": [
    "learning_rate_result"
   ]
  },
  {
   "cell_type": "code",
   "execution_count": 310,
   "metadata": {},
   "outputs": [
    {
     "name": "stdout",
     "output_type": "stream",
     "text": [
      "Best test accuracy:80.98\n",
      "Associated learning rate:0.5\n"
     ]
    }
   ],
   "source": [
    "best_accuracy = max(learning_rate_result['Final Test Accuracy'])\n",
    "best_learning_rate = learning_rate_result[\n",
    "    learning_rate_result['Final Test Accuracy'] == best_accuracy]['learning_rate'].values[0]\n",
    "print(\"Best test accuracy:{}\".format(best_accuracy))\n",
    "print(\"Associated learning rate:{}\".format(best_learning_rate))"
   ]
  },
  {
   "cell_type": "markdown",
   "metadata": {},
   "source": [
    "    Tune Optimizer"
   ]
  },
  {
   "cell_type": "code",
   "execution_count": 637,
   "metadata": {},
   "outputs": [
    {
     "name": "stdout",
     "output_type": "stream",
     "text": [
      "Optimizer:Adam\n",
      "Epoch: [1/10],Validation Acc: 79.36\n",
      "Epoch: [2/10],Validation Acc: 86.86\n",
      "Epoch: [3/10],Validation Acc: 78.98\n",
      "Epoch: [4/10],Validation Acc: 77.38\n",
      "Epoch: [5/10],Validation Acc: 74.88\n",
      "Epoch: [6/10],Validation Acc: 74.64\n",
      "Epoch: [7/10],Validation Acc: 78.14\n",
      "Epoch: [8/10],Validation Acc: 77.88\n",
      "Epoch: [9/10],Validation Acc: 78.54\n",
      "Epoch: [10/10],Validation Acc: 77.88\n",
      "\n",
      "\n",
      "Optimizer:SGD\n",
      "Epoch: [1/10],Validation Acc: 0.0\n",
      "Epoch: [2/10],Validation Acc: 0.14\n",
      "Epoch: [3/10],Validation Acc: 0.62\n",
      "Epoch: [4/10],Validation Acc: 1.68\n",
      "Epoch: [5/10],Validation Acc: 3.98\n",
      "Epoch: [6/10],Validation Acc: 6.86\n",
      "Epoch: [7/10],Validation Acc: 8.64\n",
      "Epoch: [8/10],Validation Acc: 9.64\n",
      "Epoch: [9/10],Validation Acc: 12.78\n",
      "Epoch: [10/10],Validation Acc: 13.64\n",
      "\n",
      "\n"
     ]
    }
   ],
   "source": [
    "optimizer_list = ['Adam','SGD']\n",
    "num_epochs = 10\n",
    "emb_dim = 100\n",
    "learning_rate = 0.01\n",
    "\n",
    "loss_history = []\n",
    "\n",
    "\n",
    "for opt in optimizer_list:\n",
    "    # Criterion and Optimizer\n",
    "    criterion = torch.nn.CrossEntropyLoss()\n",
    "    model = BagOfWords(len(id2token), emb_dim)\n",
    "    if opt == 'Adam':\n",
    "        optimizer = torch.optim.Adam(model.parameters(), lr=learning_rate)\n",
    "    if opt == 'SGD':\n",
    "        optimizer = torch.optim.SGD(model.parameters(), lr=learning_rate)\n",
    "    \n",
    "    print(\"Optimizer:{}\".format(opt))\n",
    "    train_loss = run_model(num_epochs,train_loader,model,optimizer,vali_loader)\n",
    "    loss_history.append(train_loss)\n",
    "    print(\"\\n\")\n",
    "    "
   ]
  },
  {
   "cell_type": "code",
   "execution_count": 644,
   "metadata": {},
   "outputs": [],
   "source": [
    "optimizer_result = pd.DataFrame({'Learning_Rate':0.01,'Optimizer':optimizer_list,'Embedding_Size':100,'Vocabulary_Size':10000,'Max_Validation_Accuracy':[86.86,13.64],'Last_Validation_Accuracy':[77.88,13.64]})"
   ]
  },
  {
   "cell_type": "code",
   "execution_count": 645,
   "metadata": {},
   "outputs": [
    {
     "data": {
      "text/html": [
       "<div>\n",
       "<style scoped>\n",
       "    .dataframe tbody tr th:only-of-type {\n",
       "        vertical-align: middle;\n",
       "    }\n",
       "\n",
       "    .dataframe tbody tr th {\n",
       "        vertical-align: top;\n",
       "    }\n",
       "\n",
       "    .dataframe thead th {\n",
       "        text-align: right;\n",
       "    }\n",
       "</style>\n",
       "<table border=\"1\" class=\"dataframe\">\n",
       "  <thead>\n",
       "    <tr style=\"text-align: right;\">\n",
       "      <th></th>\n",
       "      <th>Learning_Rate</th>\n",
       "      <th>Optimizer</th>\n",
       "      <th>Embedding_Size</th>\n",
       "      <th>Vocabulary_Size</th>\n",
       "      <th>Max_Validation_Accuracy</th>\n",
       "      <th>Last_Validation_Accuracy</th>\n",
       "    </tr>\n",
       "  </thead>\n",
       "  <tbody>\n",
       "    <tr>\n",
       "      <th>0</th>\n",
       "      <td>0.01</td>\n",
       "      <td>Adam</td>\n",
       "      <td>100</td>\n",
       "      <td>10000</td>\n",
       "      <td>86.86</td>\n",
       "      <td>77.88</td>\n",
       "    </tr>\n",
       "    <tr>\n",
       "      <th>1</th>\n",
       "      <td>0.01</td>\n",
       "      <td>SGD</td>\n",
       "      <td>100</td>\n",
       "      <td>10000</td>\n",
       "      <td>13.64</td>\n",
       "      <td>13.64</td>\n",
       "    </tr>\n",
       "  </tbody>\n",
       "</table>\n",
       "</div>"
      ],
      "text/plain": [
       "   Learning_Rate Optimizer  Embedding_Size  Vocabulary_Size  \\\n",
       "0           0.01      Adam             100            10000   \n",
       "1           0.01       SGD             100            10000   \n",
       "\n",
       "   Max_Validation_Accuracy  Last_Validation_Accuracy  \n",
       "0                    86.86                     77.88  \n",
       "1                    13.64                     13.64  "
      ]
     },
     "execution_count": 645,
     "metadata": {},
     "output_type": "execute_result"
    }
   ],
   "source": [
    "optimizer_result"
   ]
  },
  {
   "cell_type": "code",
   "execution_count": 331,
   "metadata": {},
   "outputs": [
    {
     "name": "stdout",
     "output_type": "stream",
     "text": [
      "Best test accuracy:81.216\n",
      "Associated optimizer:Adam\n"
     ]
    }
   ],
   "source": [
    "best_accuracy = max(optimizer_result['Final Test Accuracy'])\n",
    "best_optimizer = optimizer_result[\n",
    "    optimizer_result['Final Test Accuracy'] == best_accuracy]['Optimizer'].values[0]\n",
    "print(\"Best test accuracy:{}\".format(best_accuracy))\n",
    "print(\"Associated optimizer:{}\".format(best_optimizer))"
   ]
  },
  {
   "cell_type": "code",
   "execution_count": 638,
   "metadata": {},
   "outputs": [
    {
     "data": {
      "text/plain": [
       "<matplotlib.legend.Legend at 0xa66fdb6d8>"
      ]
     },
     "execution_count": 638,
     "metadata": {},
     "output_type": "execute_result"
    },
    {
     "data": {
      "image/png": "[encoded data removed]",
      "text/plain": [
       "<Figure size 432x288 with 1 Axes>"
      ]
     },
     "metadata": {
      "needs_background": "light"
     },
     "output_type": "display_data"
    }
   ],
   "source": [
    "for (i,opt) in enumerate(optimizer_list):\n",
    "    plt.plot(loss_history[i],label = 'optimizer =  {}'.format(opt))\n",
    "\n",
    "plt.title(\"training curve with different optimizers\")\n",
    "plt.xlabel(\"epoch\")\n",
    "plt.ylabel(\"training loss\")\n",
    "plt.legend()"
   ]
  },
  {
   "cell_type": "markdown",
   "metadata": {},
   "source": [
    "    Tune Embedding-Size"
   ]
  },
  {
   "cell_type": "code",
   "execution_count": null,
   "metadata": {},
   "outputs": [],
   "source": [
    "num_epochs = 10\n",
    "emb_dim_list = [50,100,150,200,300,500]\n",
    "learning_rate = best_learning_rate\n",
    "\n",
    "loss_history = []\n",
    "\n",
    "for emb_dim in emb_dim_list:\n",
    "    # Criterion and Optimizer\n",
    "    criterion = torch.nn.CrossEntropyLoss()\n",
    "    model = BagOfWords(len(id2token), emb_dim)\n",
    "    optimizer = torch.optim.Adam(model.parameters(), lr=learning_rate)\n",
    "    \n",
    "    print(\"Embedding_Size:{}\".format(emb_dim))\n",
    "    train_loss = run_model(num_epochs,train_loader,model,optimizer,vali_loader)\n",
    "    loss_history.append(train_loss)\n",
    "    print (\"Val Acc {0}\".format(test_model(vali_loader, model)[0]))\n",
    "    print(\"\\n\")\n",
    "    "
   ]
  },
  {
   "cell_type": "code",
   "execution_count": 419,
   "metadata": {},
   "outputs": [],
   "source": [
    "embedding_size_result = pd.DataFrame({'Learning_Rate':learning_rate,'Optimizer':'Adam','Embedding_Size':emb_dim_list,'Vocabulary_Size':10000,'Max_Validation_Accuracy':[86.78,84.48,84.06,83.76,83.08,89.9],'Last_Validation_Accuracy':[80.84,73.2,82.06,73.4,79.08,82.48]})"
   ]
  },
  {
   "cell_type": "code",
   "execution_count": 420,
   "metadata": {},
   "outputs": [
    {
     "data": {
      "text/html": [
       "<div>\n",
       "<style scoped>\n",
       "    .dataframe tbody tr th:only-of-type {\n",
       "        vertical-align: middle;\n",
       "    }\n",
       "\n",
       "    .dataframe tbody tr th {\n",
       "        vertical-align: top;\n",
       "    }\n",
       "\n",
       "    .dataframe thead th {\n",
       "        text-align: right;\n",
       "    }\n",
       "</style>\n",
       "<table border=\"1\" class=\"dataframe\">\n",
       "  <thead>\n",
       "    <tr style=\"text-align: right;\">\n",
       "      <th></th>\n",
       "      <th>Learning_Rate</th>\n",
       "      <th>Optimizer</th>\n",
       "      <th>Embedding_Size</th>\n",
       "      <th>Vocabulary_Size</th>\n",
       "      <th>Max_Validation_Accuracy</th>\n",
       "      <th>Last_Validation_Accuracy</th>\n",
       "    </tr>\n",
       "  </thead>\n",
       "  <tbody>\n",
       "    <tr>\n",
       "      <th>0</th>\n",
       "      <td>0.5</td>\n",
       "      <td>Adam</td>\n",
       "      <td>50</td>\n",
       "      <td>10000</td>\n",
       "      <td>86.78</td>\n",
       "      <td>80.84</td>\n",
       "    </tr>\n",
       "    <tr>\n",
       "      <th>1</th>\n",
       "      <td>0.5</td>\n",
       "      <td>Adam</td>\n",
       "      <td>100</td>\n",
       "      <td>10000</td>\n",
       "      <td>84.48</td>\n",
       "      <td>73.20</td>\n",
       "    </tr>\n",
       "    <tr>\n",
       "      <th>2</th>\n",
       "      <td>0.5</td>\n",
       "      <td>Adam</td>\n",
       "      <td>150</td>\n",
       "      <td>10000</td>\n",
       "      <td>84.06</td>\n",
       "      <td>82.06</td>\n",
       "    </tr>\n",
       "    <tr>\n",
       "      <th>3</th>\n",
       "      <td>0.5</td>\n",
       "      <td>Adam</td>\n",
       "      <td>200</td>\n",
       "      <td>10000</td>\n",
       "      <td>83.76</td>\n",
       "      <td>73.40</td>\n",
       "    </tr>\n",
       "    <tr>\n",
       "      <th>4</th>\n",
       "      <td>0.5</td>\n",
       "      <td>Adam</td>\n",
       "      <td>300</td>\n",
       "      <td>10000</td>\n",
       "      <td>83.08</td>\n",
       "      <td>79.08</td>\n",
       "    </tr>\n",
       "    <tr>\n",
       "      <th>5</th>\n",
       "      <td>0.5</td>\n",
       "      <td>Adam</td>\n",
       "      <td>500</td>\n",
       "      <td>10000</td>\n",
       "      <td>89.90</td>\n",
       "      <td>82.48</td>\n",
       "    </tr>\n",
       "  </tbody>\n",
       "</table>\n",
       "</div>"
      ],
      "text/plain": [
       "   Learning_Rate Optimizer  Embedding_Size  Vocabulary_Size  \\\n",
       "0            0.5      Adam              50            10000   \n",
       "1            0.5      Adam             100            10000   \n",
       "2            0.5      Adam             150            10000   \n",
       "3            0.5      Adam             200            10000   \n",
       "4            0.5      Adam             300            10000   \n",
       "5            0.5      Adam             500            10000   \n",
       "\n",
       "   Max_Validation_Accuracy  Last_Validation_Accuracy  \n",
       "0                    86.78                     80.84  \n",
       "1                    84.48                     73.20  \n",
       "2                    84.06                     82.06  \n",
       "3                    83.76                     73.40  \n",
       "4                    83.08                     79.08  \n",
       "5                    89.90                     82.48  "
      ]
     },
     "execution_count": 420,
     "metadata": {},
     "output_type": "execute_result"
    }
   ],
   "source": [
    "embedding_size_result"
   ]
  },
  {
   "cell_type": "code",
   "execution_count": 326,
   "metadata": {},
   "outputs": [
    {
     "name": "stdout",
     "output_type": "stream",
     "text": [
      "Best test accuracy:81.104\n",
      "Associated embedding_size:300\n"
     ]
    }
   ],
   "source": [
    "best_accuracy = max(embedding_size_result['Final Test Accuracy'])\n",
    "best_embedding_size = embedding_size_result[\n",
    "    embedding_size_result['Final Test Accuracy'] == best_accuracy]['Embedding_Size'].values[0]\n",
    "print(\"Best test accuracy:{}\".format(best_accuracy))\n",
    "print(\"Associated embedding_size:{}\".format(best_embedding_size))"
   ]
  },
  {
   "cell_type": "code",
   "execution_count": null,
   "metadata": {},
   "outputs": [],
   "source": [
    "for (i,emb) in enumerate(emb_dim_list):\n",
    "    plt.plot(loss_history[i],label = 'embedding-size =  {}'.format(emb))\n",
    "\n",
    "plt.title(\"training curve with different embedding-size\")\n",
    "plt.xlabel(\"epoch\")\n",
    "plt.ylabel(\"training loss\")\n",
    "plt.legend()"
   ]
  },
  {
   "cell_type": "markdown",
   "metadata": {},
   "source": [
    "    Building n-grams and re-train the model"
   ]
  },
  {
   "cell_type": "code",
   "execution_count": 361,
   "metadata": {},
   "outputs": [
    {
     "name": "stdout",
     "output_type": "stream",
     "text": [
      "Tokenizing validation data (bigram)\n",
      "Tokenizing test data (bigram)\n",
      "Tokenizing train data (bigram)\n"
     ]
    }
   ],
   "source": [
    "#save all tokens in local for convenience\n",
    "# val set tokens\n",
    "print (\"Tokenizing validation data (bigram)\")\n",
    "vali_data_tokens_bigram, _ = tokenize_dataset_ngram(vali['reviews'],2)\n",
    "pkl.dump(vali_data_tokens_bigram, open(\"token data/vali_data_tokens_bigram.p\", \"wb\"))\n",
    "\n",
    "# test set tokens\n",
    "print (\"Tokenizing test data (bigram)\")\n",
    "test_data_tokens_bigram, _ = tokenize_dataset_ngram(test['reviews'],2)\n",
    "pkl.dump(test_data_tokens_bigram, open(\"token data/test_data_tokens_bigram.p\", \"wb\"))\n",
    "\n",
    "# train set tokens\n",
    "print (\"Tokenizing train data (bigram)\")\n",
    "train_data_tokens_bigram, all_train_tokens_bigram = tokenize_dataset_ngram(train['reviews'],2)\n",
    "pkl.dump(train_data_tokens_bigram, open(\"token data/train_data_tokens_bigram.p\", \"wb\"))\n",
    "pkl.dump(all_train_tokens_bigram, open(\"token data/all_train_tokens_bigram.p\", \"wb\"))"
   ]
  },
  {
   "cell_type": "code",
   "execution_count": 362,
   "metadata": {},
   "outputs": [
    {
     "name": "stdout",
     "output_type": "stream",
     "text": [
      "Train dataset (bigram) size is 20000\n",
      "Val dataset(bigram) size is 5000\n",
      "Test dataset(bigram) size is 25000\n",
      "Total number of tokens in train dataset is 4838141\n"
     ]
    }
   ],
   "source": [
    "# double checking dataset size\n",
    "print (\"Train dataset (bigram) size is {}\".format(len(train_data_tokens_bigram)))\n",
    "print (\"Val dataset(bigram) size is {}\".format(len(vali_data_tokens_bigram)))\n",
    "print (\"Test dataset(bigram) size is {}\".format(len(test_data_tokens_bigram)))\n",
    "\n",
    "print (\"Total number of tokens in train dataset is {}\".format(len(all_train_tokens_bigram)))"
   ]
  },
  {
   "cell_type": "code",
   "execution_count": 367,
   "metadata": {},
   "outputs": [],
   "source": [
    "token2id_bigram, id2token_bigram = build_vocab(all_train_tokens_bigram)"
   ]
  },
  {
   "cell_type": "code",
   "execution_count": 368,
   "metadata": {},
   "outputs": [
    {
     "name": "stdout",
     "output_type": "stream",
     "text": [
      "Token id 9328 ; token and intelligent\n",
      "Token and intelligent; token id 9328\n"
     ]
    }
   ],
   "source": [
    "# Lets check the dictionary by loading random token from it\n",
    "random_token_id = random.randint(0, len(id2token_bigram)-1)\n",
    "random_token = id2token_bigram[random_token_id]\n",
    "\n",
    "print (\"Token id {} ; token {}\".format(random_token_id, id2token_bigram[random_token_id]))\n",
    "print (\"Token {}; token id {}\".format(random_token, token2id_bigram[random_token]))"
   ]
  },
  {
   "cell_type": "code",
   "execution_count": 397,
   "metadata": {},
   "outputs": [
    {
     "name": "stdout",
     "output_type": "stream",
     "text": [
      "Train dataset size is 20000\n",
      "Vali dataset size is 5000\n",
      "Test dataset size is 25000\n"
     ]
    }
   ],
   "source": [
    "train_data_indices_bigram = token2index_dataset(train_data_tokens_bigram,token2id_bigram)\n",
    "vali_data_indices_bigram = token2index_dataset(vali_data_tokens_bigram,token2id_bigram)\n",
    "test_data_indices_bigram = token2index_dataset(test_data_tokens_bigram,token2id_bigram)\n",
    "\n",
    "# double checking\n",
    "print (\"Train dataset size is {}\".format(len(train_data_indices_bigram)))\n",
    "print (\"Vali dataset size is {}\".format(len(vali_data_indices_bigram)))\n",
    "print (\"Test dataset size is {}\".format(len(test_data_indices_bigram)))"
   ]
  },
  {
   "cell_type": "code",
   "execution_count": 399,
   "metadata": {},
   "outputs": [],
   "source": [
    "#re-train the model with new data\n",
    "BATCH_SIZE = 32\n",
    "bigram_train_loader = create_data_loader(BATCH_SIZE,train_data_indices_bigram,train['y'])\n",
    "bigram_vali_loader = create_data_loader(BATCH_SIZE,vali_data_indices_bigram,vali['y'])\n",
    "bigram_test_loader = create_data_loader(BATCH_SIZE,test_data_indices_bigram,test['y'])"
   ]
  },
  {
   "cell_type": "code",
   "execution_count": 439,
   "metadata": {},
   "outputs": [],
   "source": [
    "emb_dim = 100\n",
    "model = BagOfWords(len(id2token_bigram), emb_dim)\n",
    "learning_rate = 0.01\n",
    "num_epochs = 10 # number epoch to train\n",
    "\n",
    "# Criterion and Optimizer\n",
    "criterion = torch.nn.CrossEntropyLoss()\n",
    "optimizer = torch.optim.Adam(model.parameters(), lr=learning_rate)\n"
   ]
  },
  {
   "cell_type": "code",
   "execution_count": 451,
   "metadata": {},
   "outputs": [
    {
     "name": "stdout",
     "output_type": "stream",
     "text": [
      "Epoch: [1/10],Validation Acc: 73.86\n",
      "Epoch: [2/10],Validation Acc: 74.8\n",
      "Epoch: [3/10],Validation Acc: 73.3\n",
      "Epoch: [4/10],Validation Acc: 70.9\n",
      "Epoch: [5/10],Validation Acc: 73.56\n",
      "Epoch: [6/10],Validation Acc: 70.5\n",
      "Epoch: [7/10],Validation Acc: 74.58\n",
      "Epoch: [8/10],Validation Acc: 70.3\n",
      "Epoch: [9/10],Validation Acc: 72.98\n",
      "Epoch: [10/10],Validation Acc: 75.4\n"
     ]
    }
   ],
   "source": [
    "train_loss_history = []\n",
    "vali_loss_history = []\n",
    "\n",
    "for epoch in range(num_epochs):\n",
    "    running_loss = 0.0\n",
    "    for i, (data, lengths, labels) in enumerate(bigram_train_loader):\n",
    "        model.train()\n",
    "        data_batch, length_batch, label_batch = data, lengths, labels\n",
    "        optimizer.zero_grad()\n",
    "        outputs = model(data_batch, length_batch)\n",
    "        loss = criterion(outputs, label_batch)\n",
    "        loss.backward()\n",
    "        optimizer.step()\n",
    "        running_loss += loss.item()\n",
    "    \n",
    "    vali_acc,vali_loss = test_model(bigram_vali_loader, model)\n",
    "    train_loss_history.append(running_loss)\n",
    "    vali_loss_history.append(vali_loss)\n",
    "    \n",
    "    print('Epoch: [{}/{}],Validation Acc: {}'.format( \n",
    "                               epoch+1, num_epochs, vali_acc))"
   ]
  },
  {
   "cell_type": "code",
   "execution_count": 452,
   "metadata": {},
   "outputs": [
    {
     "name": "stdout",
     "output_type": "stream",
     "text": [
      "After training for 10 epochs\n",
      "Val Acc 75.4\n",
      "Test Acc 77.948\n"
     ]
    }
   ],
   "source": [
    "print(\"After training for {} epochs\".format(num_epochs))\n",
    "print (\"Val Acc {0}\".format(test_model(bigram_vali_loader, model)[0]))\n",
    "print (\"Test Acc {}\".format(test_model(bigram_test_loader, model)[0]))"
   ]
  },
  {
   "cell_type": "code",
   "execution_count": null,
   "metadata": {},
   "outputs": [],
   "source": [
    "plt.figure(figsize=(10,8))\n",
    "plt.plot(train_loss_history,label='trainning loss')\n",
    "plt.legend()\n",
    "plt.xlabel(\"epoch\")\n",
    "plt.ylabel(\"loss\")\n",
    "plt.title(\"Training on Bi-gram BOW Model\\n(lr = 0.01; embedding_size = 100; vocabulary_size = 10000)\")"
   ]
  },
  {
   "cell_type": "markdown",
   "metadata": {},
   "source": [
    "    Try tri-gram"
   ]
  },
  {
   "cell_type": "code",
   "execution_count": 426,
   "metadata": {},
   "outputs": [
    {
     "name": "stdout",
     "output_type": "stream",
     "text": [
      "Tokenizing validation data (trigram)\n",
      "Tokenizing test data (trigram)\n",
      "Tokenizing train data (trigram)\n"
     ]
    }
   ],
   "source": [
    "print (\"Tokenizing validation data (trigram)\")\n",
    "vali_data_tokens_trigram, _ = tokenize_dataset_ngram(vali['reviews'],3)\n",
    "pkl.dump(vali_data_tokens_bigram, open(\"token data/vali_data_tokens_trigram.p\", \"wb\"))\n",
    "\n",
    "# test set tokens\n",
    "print (\"Tokenizing test data (trigram)\")\n",
    "test_data_tokens_trigram, _ = tokenize_dataset_ngram(test['reviews'],3)\n",
    "pkl.dump(test_data_tokens_bigram, open(\"token data/test_data_tokens_trigram.p\", \"wb\"))\n",
    "\n",
    "# train set tokens\n",
    "print (\"Tokenizing train data (trigram)\")\n",
    "train_data_tokens_trigram, all_train_tokens_trigram = tokenize_dataset_ngram(train['reviews'],3)\n",
    "pkl.dump(train_data_tokens_bigram, open(\"token data/train_data_tokens_trigram.p\", \"wb\"))\n",
    "pkl.dump(all_train_tokens_bigram, open(\"token data/all_train_tokens_trigram.p\", \"wb\"))"
   ]
  },
  {
   "cell_type": "code",
   "execution_count": 427,
   "metadata": {},
   "outputs": [
    {
     "name": "stdout",
     "output_type": "stream",
     "text": [
      "Train dataset (trigram) size is 20000\n",
      "Val dataset(trigram) size is 5000\n",
      "Test dataset(trigram) size is 25000\n",
      "Total number of tokens in train dataset is 4818141\n"
     ]
    }
   ],
   "source": [
    "# double checking dataset size\n",
    "print (\"Train dataset (trigram) size is {}\".format(len(train_data_tokens_trigram)))\n",
    "print (\"Val dataset(trigram) size is {}\".format(len(vali_data_tokens_trigram)))\n",
    "print (\"Test dataset(trigram) size is {}\".format(len(test_data_tokens_trigram)))\n",
    "\n",
    "print (\"Total number of tokens in train dataset is {}\".format(len(all_train_tokens_trigram)))"
   ]
  },
  {
   "cell_type": "code",
   "execution_count": 438,
   "metadata": {},
   "outputs": [],
   "source": [
    "token2id_trigram, id2token_trigram = build_vocab(all_train_tokens_trigram)"
   ]
  },
  {
   "cell_type": "code",
   "execution_count": 471,
   "metadata": {},
   "outputs": [
    {
     "name": "stdout",
     "output_type": "stream",
     "text": [
      "Train dataset size is 20000\n",
      "Vali dataset size is 5000\n",
      "Test dataset size is 25000\n"
     ]
    }
   ],
   "source": [
    "train_data_indices_trigram = token2index_dataset(train_data_tokens_trigram,token2id_trigram)\n",
    "vali_data_indices_trigram = token2index_dataset(vali_data_tokens_trigram,token2id_trigram)\n",
    "test_data_indices_trigram = token2index_dataset(test_data_tokens_trigram,token2id_trigram)\n",
    "\n",
    "# double checking\n",
    "print (\"Train dataset size is {}\".format(len(train_data_indices_trigram)))\n",
    "print (\"Vali dataset size is {}\".format(len(vali_data_indices_trigram)))\n",
    "print (\"Test dataset size is {}\".format(len(test_data_indices_trigram)))"
   ]
  },
  {
   "cell_type": "code",
   "execution_count": 479,
   "metadata": {},
   "outputs": [],
   "source": [
    "#re-train the model with new data\n",
    "BATCH_SIZE = 32\n",
    "trigram_train_loader = create_data_loader(BATCH_SIZE,train_data_indices_trigram,train['y'])\n",
    "trigram_vali_loader = create_data_loader(BATCH_SIZE,vali_data_indices_trigram,vali['y'])\n",
    "trigram_test_loader = create_data_loader(BATCH_SIZE,test_data_indices_trigram,test['y'])"
   ]
  },
  {
   "cell_type": "code",
   "execution_count": 480,
   "metadata": {},
   "outputs": [],
   "source": [
    "emb_dim = 100\n",
    "model = BagOfWords(len(id2token_trigram), emb_dim)\n",
    "learning_rate = 0.01\n",
    "num_epochs = 10 # number epoch to train\n",
    "\n",
    "# Criterion and Optimizer\n",
    "criterion = torch.nn.CrossEntropyLoss()\n",
    "optimizer = torch.optim.Adam(model.parameters(), lr=learning_rate)\n"
   ]
  },
  {
   "cell_type": "code",
   "execution_count": 501,
   "metadata": {},
   "outputs": [],
   "source": [
    "def do_train(dataloader):\n",
    "    model.train()\n",
    "    loss_val = 0\n",
    "    for i, (data, lengths, labels) in enumerate(dataloader):\n",
    "        data_batch, length_batch, label_batch = data, lengths, labels\n",
    "        optimizer.zero_grad()\n",
    "        outputs = model(data_batch, length_batch)\n",
    "        loss = criterion(outputs, label_batch)\n",
    "        loss.backward()\n",
    "        optimizer.step()\n",
    "        \n",
    "        # Accurately compute loss, because of different batch size\n",
    "        loss_val += loss.item() * len(data) / len(dataloader.dataset)\n",
    "    return loss.item()"
   ]
  },
  {
   "cell_type": "code",
   "execution_count": 542,
   "metadata": {},
   "outputs": [],
   "source": [
    "def do_eval(dataloader):\n",
    "    model.eval()\n",
    "    loss_val = 0\n",
    "   \n",
    "    with torch.no_grad():\n",
    "        for i, (data, lengths, labels) in enumerate(dataloader):\n",
    "            data_batch, length_batch, label_batch = data, lengths, labels\n",
    "            outputs = model(data_batch, length_batch)\n",
    "            loss = criterion(outputs, label_batch)\n",
    "            loss_val += loss.item()\n",
    "    optimizer.zero_grad()\n",
    "    return loss_val"
   ]
  },
  {
   "cell_type": "code",
   "execution_count": 503,
   "metadata": {},
   "outputs": [
    {
     "name": "stdout",
     "output_type": "stream",
     "text": [
      "Epoch: [1/10],Validation Acc: 62.54\n",
      "Epoch: [2/10],Validation Acc: 71.44\n",
      "Epoch: [3/10],Validation Acc: 71.0\n",
      "Epoch: [4/10],Validation Acc: 68.18\n",
      "Epoch: [5/10],Validation Acc: 66.88\n",
      "Epoch: [6/10],Validation Acc: 64.74\n",
      "Epoch: [7/10],Validation Acc: 69.6\n",
      "Epoch: [8/10],Validation Acc: 64.58\n",
      "Epoch: [9/10],Validation Acc: 68.26\n",
      "Epoch: [10/10],Validation Acc: 66.64\n"
     ]
    }
   ],
   "source": [
    "for epoch in range(num_epochs):\n",
    "    for i, (data, lengths, labels) in enumerate(trigram_train_loader):\n",
    "        model.train()\n",
    "        data_batch, length_batch, label_batch = data, lengths, labels\n",
    "        optimizer.zero_grad()\n",
    "        outputs = model(data_batch, length_batch)\n",
    "        loss = criterion(outputs, label_batch)\n",
    "        loss.backward()\n",
    "        optimizer.step()\n",
    "    \n",
    "    vali_acc,vali_loss = test_model(trigram_vali_loader, model)\n",
    "    \n",
    "    print('Epoch: [{}/{}],Validation Acc: {}'.format( \n",
    "                               epoch+1, num_epochs, vali_acc))"
   ]
  },
  {
   "cell_type": "code",
   "execution_count": 504,
   "metadata": {},
   "outputs": [
    {
     "name": "stdout",
     "output_type": "stream",
     "text": [
      "After training for 10 epochs\n",
      "Val Acc 66.64\n",
      "Test Acc 72.252\n"
     ]
    }
   ],
   "source": [
    "print(\"After training for {} epochs\".format(num_epochs))\n",
    "print (\"Val Acc {0}\".format(test_model(trigram_vali_loader, model)[0]))\n",
    "print (\"Test Acc {}\".format(test_model(trigram_test_loader, model)[0]))"
   ]
  },
  {
   "cell_type": "markdown",
   "metadata": {},
   "source": [
    "    Tune different vocabulary size"
   ]
  },
  {
   "cell_type": "code",
   "execution_count": 506,
   "metadata": {},
   "outputs": [],
   "source": [
    "def run_model_default_setting(id2token,train_loader,vali_loader):\n",
    "    emb_dim = 100\n",
    "    model = BagOfWords(len(id2token), emb_dim)\n",
    "    learning_rate = 0.01\n",
    "    num_epochs = 10 # number epoch to train\n",
    "\n",
    "    # Criterion and Optimizer\n",
    "    criterion = torch.nn.CrossEntropyLoss()\n",
    "    optimizer = torch.optim.Adam(model.parameters(), lr=learning_rate)\n",
    "    \n",
    "    train_loss,vali_loss = run_model(num_epochs,train_loader,model,optimizer,vali_loader)"
   ]
  },
  {
   "cell_type": "code",
   "execution_count": 508,
   "metadata": {},
   "outputs": [
    {
     "name": "stdout",
     "output_type": "stream",
     "text": [
      "vocabulary size:5000\n",
      "Epoch: [1/10],Validation Acc: 76.2\n",
      "Epoch: [2/10],Validation Acc: 76.44\n",
      "Epoch: [3/10],Validation Acc: 83.56\n",
      "Epoch: [4/10],Validation Acc: 75.04\n",
      "Epoch: [5/10],Validation Acc: 78.9\n",
      "Epoch: [6/10],Validation Acc: 79.6\n",
      "Epoch: [7/10],Validation Acc: 79.62\n",
      "Epoch: [8/10],Validation Acc: 79.22\n",
      "Epoch: [9/10],Validation Acc: 81.52\n",
      "Epoch: [10/10],Validation Acc: 78.12\n",
      "vocabulary size:10000\n",
      "Epoch: [1/10],Validation Acc: 85.14\n",
      "Epoch: [2/10],Validation Acc: 78.1\n",
      "Epoch: [3/10],Validation Acc: 80.36\n",
      "Epoch: [4/10],Validation Acc: 74.38\n",
      "Epoch: [5/10],Validation Acc: 74.58\n",
      "Epoch: [6/10],Validation Acc: 80.86\n",
      "Epoch: [7/10],Validation Acc: 76.36\n",
      "Epoch: [8/10],Validation Acc: 79.08\n",
      "Epoch: [9/10],Validation Acc: 75.54\n",
      "Epoch: [10/10],Validation Acc: 78.16\n",
      "vocabulary size:15000\n",
      "Epoch: [1/10],Validation Acc: 74.92\n",
      "Epoch: [2/10],Validation Acc: 79.36\n",
      "Epoch: [3/10],Validation Acc: 82.36\n",
      "Epoch: [4/10],Validation Acc: 79.4\n",
      "Epoch: [5/10],Validation Acc: 82.74\n",
      "Epoch: [6/10],Validation Acc: 80.38\n",
      "Epoch: [7/10],Validation Acc: 76.64\n",
      "Epoch: [8/10],Validation Acc: 74.44\n",
      "Epoch: [9/10],Validation Acc: 72.44\n",
      "Epoch: [10/10],Validation Acc: 82.82\n",
      "vocabulary size:20000\n",
      "Epoch: [1/10],Validation Acc: 81.94\n",
      "Epoch: [2/10],Validation Acc: 73.98\n",
      "Epoch: [3/10],Validation Acc: 72.34\n",
      "Epoch: [4/10],Validation Acc: 84.4\n",
      "Epoch: [5/10],Validation Acc: 76.16\n",
      "Epoch: [6/10],Validation Acc: 76.74\n",
      "Epoch: [7/10],Validation Acc: 80.0\n",
      "Epoch: [8/10],Validation Acc: 78.22\n",
      "Epoch: [9/10],Validation Acc: 76.56\n",
      "Epoch: [10/10],Validation Acc: 77.8\n"
     ]
    }
   ],
   "source": [
    "vocabulary_size_lists = [5000,10000,15000,20000]\n",
    "for vocab_size in vocabulary_size_lists:\n",
    "    token2id, id2token = build_vocab(all_train_tokens,vocab_size)\n",
    "    \n",
    "    train_data_indices = token2index_dataset(train_data_tokens,token2id)\n",
    "    vali_data_indices = token2index_dataset(vali_data_tokens,token2id)\n",
    "    test_data_indices = token2index_dataset(test_data_tokens,token2id)\n",
    "    \n",
    "    if (len(train_data_indices) == 20000) & (len(vali_data_indices) == 5000) & (len(test_data_indices) == 25000):\n",
    "        train_loader = create_data_loader(BATCH_SIZE,train_data_indices,train['y'])\n",
    "        vali_loader = create_data_loader(BATCH_SIZE,vali_data_indices,vali['y'])\n",
    "        test_loader = create_data_loader(BATCH_SIZE,test_data_indices,test['y'])\n",
    "        \n",
    "        print(\"vocabulary size:{}\".format(vocab_size))\n",
    "        run_model_default_setting(id2token,train_loader,vali_loader)\n",
    "    else:\n",
    "        print(\"token to index step was wrong, please check!\")\n",
    "        break\n",
    "\n"
   ]
  },
  {
   "cell_type": "code",
   "execution_count": 510,
   "metadata": {},
   "outputs": [],
   "source": [
    "vocab_size_result = pd.DataFrame({'Learning_Rate':0.01,'Optimizer':'Adam','Embedding_Size':100,'Vocabulary_Size':vocabulary_size_lists,'Max_Validation_Accuracy':[83.56,85.14,82.82,84.4],'Last_Validation_Accuracy':[78.12,78.16,82.82,77.8]})"
   ]
  },
  {
   "cell_type": "code",
   "execution_count": 511,
   "metadata": {},
   "outputs": [
    {
     "data": {
      "text/html": [
       "<div>\n",
       "<style scoped>\n",
       "    .dataframe tbody tr th:only-of-type {\n",
       "        vertical-align: middle;\n",
       "    }\n",
       "\n",
       "    .dataframe tbody tr th {\n",
       "        vertical-align: top;\n",
       "    }\n",
       "\n",
       "    .dataframe thead th {\n",
       "        text-align: right;\n",
       "    }\n",
       "</style>\n",
       "<table border=\"1\" class=\"dataframe\">\n",
       "  <thead>\n",
       "    <tr style=\"text-align: right;\">\n",
       "      <th></th>\n",
       "      <th>Learning_Rate</th>\n",
       "      <th>Optimizer</th>\n",
       "      <th>Embedding_Size</th>\n",
       "      <th>Vocabulary_Size</th>\n",
       "      <th>Max_Validation_Accuracy</th>\n",
       "      <th>Last_Validation_Accuracy</th>\n",
       "    </tr>\n",
       "  </thead>\n",
       "  <tbody>\n",
       "    <tr>\n",
       "      <th>0</th>\n",
       "      <td>0.01</td>\n",
       "      <td>Adam</td>\n",
       "      <td>100</td>\n",
       "      <td>5000</td>\n",
       "      <td>83.56</td>\n",
       "      <td>78.12</td>\n",
       "    </tr>\n",
       "    <tr>\n",
       "      <th>1</th>\n",
       "      <td>0.01</td>\n",
       "      <td>Adam</td>\n",
       "      <td>100</td>\n",
       "      <td>10000</td>\n",
       "      <td>85.14</td>\n",
       "      <td>78.16</td>\n",
       "    </tr>\n",
       "    <tr>\n",
       "      <th>2</th>\n",
       "      <td>0.01</td>\n",
       "      <td>Adam</td>\n",
       "      <td>100</td>\n",
       "      <td>15000</td>\n",
       "      <td>82.82</td>\n",
       "      <td>82.82</td>\n",
       "    </tr>\n",
       "    <tr>\n",
       "      <th>3</th>\n",
       "      <td>0.01</td>\n",
       "      <td>Adam</td>\n",
       "      <td>100</td>\n",
       "      <td>20000</td>\n",
       "      <td>84.40</td>\n",
       "      <td>77.80</td>\n",
       "    </tr>\n",
       "  </tbody>\n",
       "</table>\n",
       "</div>"
      ],
      "text/plain": [
       "   Learning_Rate Optimizer  Embedding_Size  Vocabulary_Size  \\\n",
       "0           0.01      Adam             100             5000   \n",
       "1           0.01      Adam             100            10000   \n",
       "2           0.01      Adam             100            15000   \n",
       "3           0.01      Adam             100            20000   \n",
       "\n",
       "   Max_Validation_Accuracy  Last_Validation_Accuracy  \n",
       "0                    83.56                     78.12  \n",
       "1                    85.14                     78.16  \n",
       "2                    82.82                     82.82  \n",
       "3                    84.40                     77.80  "
      ]
     },
     "execution_count": 511,
     "metadata": {},
     "output_type": "execute_result"
    }
   ],
   "source": [
    "vocab_size_result"
   ]
  },
  {
   "cell_type": "markdown",
   "metadata": {},
   "source": [
    "    Try n-grams combined BOW"
   ]
  },
  {
   "cell_type": "code",
   "execution_count": 516,
   "metadata": {},
   "outputs": [],
   "source": [
    "def tokenize_dataset_ngram_combined(dataset,n_gram):\n",
    "    token_dataset = []\n",
    "    all_tokens = []\n",
    "    \n",
    "    for text in dataset:\n",
    "        #tokenize and remove punctuations\n",
    "        tokens = nltk.word_tokenize(text)\n",
    "        tokens = [token.lower() for token in tokens if (token not in punctuations)]\n",
    "        combined_tokens = []\n",
    "        \n",
    "        for i in range(1,n_gram + 1):\n",
    "            n_grams_tokens = ngrams(tokens,i)\n",
    "            n_grams_tokens = [' '.join(grams) for grams in n_grams_tokens]\n",
    "            combined_tokens += n_grams_tokens\n",
    "            \n",
    "        token_dataset.append(combined_tokens)\n",
    "        all_tokens += combined_tokens\n",
    "\n",
    "    return token_dataset, all_tokens"
   ]
  },
  {
   "cell_type": "code",
   "execution_count": 517,
   "metadata": {},
   "outputs": [
    {
     "name": "stdout",
     "output_type": "stream",
     "text": [
      "Tokenizing validation data (trigram)\n",
      "Tokenizing test data (trigram)\n",
      "Tokenizing train data (trigram)\n"
     ]
    }
   ],
   "source": [
    "print (\"Tokenizing validation data (combined)\")\n",
    "vali_data_tokens_comb, _ = tokenize_dataset_ngram_combined(vali['reviews'],2)\n",
    "pkl.dump(vali_data_tokens_comb, open(\"token data/vali_data_tokens_combined.p\", \"wb\"))\n",
    "\n",
    "# test set tokens\n",
    "print (\"Tokenizing test data (combined)\")\n",
    "test_data_tokens_comb, _ = tokenize_dataset_ngram_combined(test['reviews'],2)\n",
    "pkl.dump(test_data_tokens_comb, open(\"token data/test_data_tokens_combined.p\", \"wb\"))\n",
    "\n",
    "# train set tokens\n",
    "print (\"Tokenizing train data (combined)\")\n",
    "train_data_tokens_comb, all_train_tokens_comb = tokenize_dataset_ngram_combined(train['reviews'],2)\n",
    "pkl.dump(train_data_tokens_comb, open(\"token data/train_data_tokens_combined.p\", \"wb\"))\n",
    "pkl.dump(all_train_tokens_comb, open(\"token data/all_train_tokens_combined.p\", \"wb\"))"
   ]
  },
  {
   "cell_type": "code",
   "execution_count": 518,
   "metadata": {},
   "outputs": [
    {
     "name": "stdout",
     "output_type": "stream",
     "text": [
      "Train dataset (combined) size is 20000\n",
      "Val dataset(combined) size is 5000\n",
      "Test dataset(combined) size is 25000\n",
      "Total number of tokens in train dataset is 9696282\n"
     ]
    }
   ],
   "source": [
    "# double checking dataset size\n",
    "print (\"Train dataset (combined) size is {}\".format(len(train_data_tokens_comb)))\n",
    "print (\"Val dataset(combined) size is {}\".format(len(vali_data_tokens_comb)))\n",
    "print (\"Test dataset(combined) size is {}\".format(len(test_data_tokens_comb)))\n",
    "\n",
    "print (\"Total number of tokens in train dataset is {}\".format(len(all_train_tokens_comb)))"
   ]
  },
  {
   "cell_type": "code",
   "execution_count": 532,
   "metadata": {},
   "outputs": [],
   "source": [
    "token2id_comb, id2token_comb = build_vocab(all_train_tokens_comb,10000)"
   ]
  },
  {
   "cell_type": "code",
   "execution_count": 533,
   "metadata": {},
   "outputs": [],
   "source": [
    "train_data_indices_comb = token2index_dataset(train_data_tokens_comb,token2id_comb)\n",
    "vali_data_indices_comb = token2index_dataset(vali_data_tokens_comb,token2id_comb)\n",
    "test_data_indices_comb = token2index_dataset(test_data_tokens_comb,token2id_comb)"
   ]
  },
  {
   "cell_type": "code",
   "execution_count": 534,
   "metadata": {},
   "outputs": [
    {
     "name": "stdout",
     "output_type": "stream",
     "text": [
      "Epoch: [1/10],Validation Acc: 76.86\n",
      "Epoch: [2/10],Validation Acc: 82.84\n",
      "Epoch: [3/10],Validation Acc: 74.22\n",
      "Epoch: [4/10],Validation Acc: 74.94\n",
      "Epoch: [5/10],Validation Acc: 79.46\n",
      "Epoch: [6/10],Validation Acc: 75.52\n",
      "Epoch: [7/10],Validation Acc: 77.76\n",
      "Epoch: [8/10],Validation Acc: 78.02\n",
      "Epoch: [9/10],Validation Acc: 76.18\n",
      "Epoch: [10/10],Validation Acc: 77.96\n",
      "After running 10 epochs\n",
      "Val Acc 77.96\n"
     ]
    }
   ],
   "source": [
    "if (len(train_data_indices_comb) == 20000) & (len(vali_data_indices_comb) == 5000) & (len(test_data_indices_comb) == 25000):\n",
    "    comb_train_loader = create_data_loader(BATCH_SIZE,train_data_indices_comb,train['y'])\n",
    "    comb_vali_loader = create_data_loader(BATCH_SIZE,vali_data_indices_comb,vali['y'])\n",
    "    comb_test_loader = create_data_loader(BATCH_SIZE,test_data_indices_comb,test['y'])\n",
    "\n",
    "    emb_dim = 100\n",
    "    model = BagOfWords(len(id2token_comb), emb_dim)\n",
    "    learning_rate = 0.01\n",
    "    num_epochs = 10 # number epoch to train\n",
    "\n",
    "    # Criterion and Optimizer\n",
    "    criterion = torch.nn.CrossEntropyLoss()\n",
    "    optimizer = torch.optim.Adam(model.parameters(), lr=learning_rate)\n",
    "    run_model(num_epochs,comb_train_loader,model,optimizer,comb_vali_loader)\n",
    "    print(\"After running 10 epochs\")\n",
    "    print (\"Val Acc {0}\".format(test_model(comb_vali_loader, model)[0]))\n",
    "else:\n",
    "    print(\"token to index step was wrong, please check!\")"
   ]
  },
  {
   "cell_type": "code",
   "execution_count": 535,
   "metadata": {},
   "outputs": [],
   "source": [
    "n_grams_result = pd.DataFrame({'n-gram':['1_gram','bi-gram','tri_gram','1+2_grams'],'Learning_Rate':0.01,'Optimizer':'Adam','Embedding_Size':100,'Vocabulary_Size':10000,'Max_Validation_Accuracy':[83.62,75.4,71.44,82.84],'Last_Validation_Accuracy':[72.66,75.4,66.64,77.96]})"
   ]
  },
  {
   "cell_type": "code",
   "execution_count": 536,
   "metadata": {},
   "outputs": [
    {
     "data": {
      "text/html": [
       "<div>\n",
       "<style scoped>\n",
       "    .dataframe tbody tr th:only-of-type {\n",
       "        vertical-align: middle;\n",
       "    }\n",
       "\n",
       "    .dataframe tbody tr th {\n",
       "        vertical-align: top;\n",
       "    }\n",
       "\n",
       "    .dataframe thead th {\n",
       "        text-align: right;\n",
       "    }\n",
       "</style>\n",
       "<table border=\"1\" class=\"dataframe\">\n",
       "  <thead>\n",
       "    <tr style=\"text-align: right;\">\n",
       "      <th></th>\n",
       "      <th>n-gram</th>\n",
       "      <th>Learning_Rate</th>\n",
       "      <th>Optimizer</th>\n",
       "      <th>Embedding_Size</th>\n",
       "      <th>Vocabulary_Size</th>\n",
       "      <th>Max_Validation_Accuracy</th>\n",
       "      <th>Last_Validation_Accuracy</th>\n",
       "    </tr>\n",
       "  </thead>\n",
       "  <tbody>\n",
       "    <tr>\n",
       "      <th>0</th>\n",
       "      <td>1_gram</td>\n",
       "      <td>0.01</td>\n",
       "      <td>Adam</td>\n",
       "      <td>100</td>\n",
       "      <td>10000</td>\n",
       "      <td>83.62</td>\n",
       "      <td>72.66</td>\n",
       "    </tr>\n",
       "    <tr>\n",
       "      <th>1</th>\n",
       "      <td>bi-gram</td>\n",
       "      <td>0.01</td>\n",
       "      <td>Adam</td>\n",
       "      <td>100</td>\n",
       "      <td>10000</td>\n",
       "      <td>75.40</td>\n",
       "      <td>75.40</td>\n",
       "    </tr>\n",
       "    <tr>\n",
       "      <th>2</th>\n",
       "      <td>tri_gram</td>\n",
       "      <td>0.01</td>\n",
       "      <td>Adam</td>\n",
       "      <td>100</td>\n",
       "      <td>10000</td>\n",
       "      <td>71.44</td>\n",
       "      <td>66.64</td>\n",
       "    </tr>\n",
       "    <tr>\n",
       "      <th>3</th>\n",
       "      <td>1+2_grams</td>\n",
       "      <td>0.01</td>\n",
       "      <td>Adam</td>\n",
       "      <td>100</td>\n",
       "      <td>10000</td>\n",
       "      <td>82.84</td>\n",
       "      <td>77.96</td>\n",
       "    </tr>\n",
       "  </tbody>\n",
       "</table>\n",
       "</div>"
      ],
      "text/plain": [
       "      n-gram  Learning_Rate Optimizer  Embedding_Size  Vocabulary_Size  \\\n",
       "0     1_gram           0.01      Adam             100            10000   \n",
       "1    bi-gram           0.01      Adam             100            10000   \n",
       "2   tri_gram           0.01      Adam             100            10000   \n",
       "3  1+2_grams           0.01      Adam             100            10000   \n",
       "\n",
       "   Max_Validation_Accuracy  Last_Validation_Accuracy  \n",
       "0                    83.62                     72.66  \n",
       "1                    75.40                     75.40  \n",
       "2                    71.44                     66.64  \n",
       "3                    82.84                     77.96  "
      ]
     },
     "execution_count": 536,
     "metadata": {},
     "output_type": "execute_result"
    }
   ],
   "source": [
    "n_grams_result"
   ]
  },
  {
   "cell_type": "code",
   "execution_count": 549,
   "metadata": {},
   "outputs": [
    {
     "name": "stdout",
     "output_type": "stream",
     "text": [
      "Epoch: [1/10],Training Loss: 13.04546746063234,Validation Loss:58.2261778563261\n",
      "Epoch: [2/10],Training Loss: 5.926065699768063,Validation Loss:72.25167858600616\n",
      "Epoch: [3/10],Training Loss: 3.475327571105956,Validation Loss:106.71680767834187\n",
      "Epoch: [4/10],Training Loss: 1.8653821884155293,Validation Loss:135.08178099244833\n",
      "Epoch: [5/10],Training Loss: 0.8719884605407718,Validation Loss:218.2322714328766\n",
      "Epoch: [6/10],Training Loss: 0.4128771251678467,Validation Loss:152.19472563266754\n",
      "Epoch: [7/10],Training Loss: 0.17316068878173835,Validation Loss:211.12795200943947\n",
      "Epoch: [8/10],Training Loss: 0.06428450851440431,Validation Loss:233.0819312930107\n",
      "Epoch: [9/10],Training Loss: 0.02345437469482423,Validation Loss:245.6153254210949\n",
      "Epoch: [10/10],Training Loss: 0.012930469512939455,Validation Loss:236.34673365950584\n"
     ]
    }
   ],
   "source": [
    "emb_dim = 100\n",
    "model = BagOfWords(len(id2token), emb_dim)\n",
    "learning_rate = 0.01\n",
    "num_epochs = 10 # number epoch to train\n",
    "\n",
    "# Criterion and Optimizer\n",
    "criterion = torch.nn.CrossEntropyLoss()\n",
    "optimizer = torch.optim.Adam(model.parameters(), lr=learning_rate)\n",
    "    \n",
    "    \n",
    "for epoch in range(num_epochs):\n",
    "    running_loss = 0\n",
    "    for i, (data, lengths, labels) in enumerate(train_loader):\n",
    "        model.train()\n",
    "        data_batch, length_batch, label_batch = data, lengths, labels\n",
    "        optimizer.zero_grad()\n",
    "        outputs = model(data_batch, length_batch)\n",
    "        loss = criterion(outputs, label_batch)\n",
    "        loss.backward()\n",
    "        optimizer.step()\n",
    "        \n",
    "        running_loss += loss.item() * len(data) / len(train_loader)\n",
    "        \n",
    "\n",
    "    print('Epoch: [{}/{}],Training Loss: {},Validation Loss:{}'.format( \n",
    "                               epoch+1, num_epochs, running_loss))"
   ]
  },
  {
   "cell_type": "markdown",
   "metadata": {},
   "source": [
    "    Testing on test-set"
   ]
  },
  {
   "cell_type": "code",
   "execution_count": 798,
   "metadata": {},
   "outputs": [
    {
     "name": "stdout",
     "output_type": "stream",
     "text": [
      "Epoch: [1/10],Validation Acc: 79.1\n",
      "Epoch: [2/10],Validation Acc: 63.74\n",
      "Epoch: [3/10],Validation Acc: 71.64\n",
      "Epoch: [4/10],Validation Acc: 72.94\n",
      "Epoch: [5/10],Validation Acc: 75.54\n",
      "Epoch: [6/10],Validation Acc: 80.88\n",
      "Epoch: [7/10],Validation Acc: 78.88\n",
      "Epoch: [8/10],Validation Acc: 72.92\n",
      "Epoch: [9/10],Validation Acc: 77.92\n",
      "Epoch: [10/10],Validation Acc: 80.46\n"
     ]
    },
    {
     "ename": "IndexError",
     "evalue": "tuple index out of range",
     "output_type": "error",
     "traceback": [
      "\u001b[0;31m---------------------------------------------------------------------------\u001b[0m",
      "\u001b[0;31mIndexError\u001b[0m                                Traceback (most recent call last)",
      "\u001b[0;32m<ipython-input-798-821630efa11a>\u001b[0m in \u001b[0;36m<module>\u001b[0;34m()\u001b[0m\n\u001b[1;32m     15\u001b[0m \u001b[0;34m\u001b[0m\u001b[0m\n\u001b[1;32m     16\u001b[0m     print('Epoch: [{}/{}],Training Loss: {},Validation Loss:{}'.format( \n\u001b[0;32m---> 17\u001b[0;31m                                epoch+1, num_epochs, running_loss))\n\u001b[0m",
      "\u001b[0;31mIndexError\u001b[0m: tuple index out of range"
     ]
    }
   ],
   "source": [
    "emb_dim = 500\n",
    "model = BagOfWords(len(id2token), emb_dim)\n",
    "learning_rate = 0.01\n",
    "num_epochs = 10 # number epoch to train\n",
    "\n",
    "# Criterion and Optimizer\n",
    "criterion = torch.nn.CrossEntropyLoss()\n",
    "optimizer = torch.optim.Adam(model.parameters(), lr=learning_rate)\n",
    "\n",
    "    \n",
    "loss_history = []    \n",
    "for epoch in range(num_epochs):\n",
    "    train_loss = run_model(num_epochs,train_loader,model,optimizer,vali_loader)\n",
    "    loss_history.append(train_loss)"
   ]
  },
  {
   "cell_type": "code",
   "execution_count": 799,
   "metadata": {},
   "outputs": [
    {
     "name": "stdout",
     "output_type": "stream",
     "text": [
      "After training for 10 epochs\n",
      "Val Acc 80.46\n",
      "Test Acc 80.708\n"
     ]
    }
   ],
   "source": [
    "print(\"After training for {} epochs\".format(num_epochs))\n",
    "print (\"Val Acc {0}\".format(test_model(vali_loader, model)[0]))\n",
    "print (\"Test Acc {}\".format(test_model(test_loader, model)[0]))"
   ]
  },
  {
   "cell_type": "code",
   "execution_count": 802,
   "metadata": {},
   "outputs": [
    {
     "data": {
      "text/plain": [
       "Text(0,0.5,'training loss')"
      ]
     },
     "execution_count": 802,
     "metadata": {},
     "output_type": "execute_result"
    },
    {
     "data": {
      "image/png": "[encoded data removed]",
      "text/plain": [
       "<Figure size 432x288 with 1 Axes>"
      ]
     },
     "metadata": {
      "needs_background": "light"
     },
     "output_type": "display_data"
    }
   ],
   "source": [
    "plt.plot(loss_history[0])\n",
    "plt.title(\"training curve with best model\")\n",
    "plt.xlabel(\"epoch\")\n",
    "plt.ylabel(\"training loss\")"
   ]
  },
  {
   "cell_type": "code",
   "execution_count": 804,
   "metadata": {},
   "outputs": [
    {
     "name": "stdout",
     "output_type": "stream",
     "text": [
      "Epoch: [1/10],Validation Acc: 84.78\n",
      "Epoch: [2/10],Validation Acc: 80.6\n",
      "Epoch: [3/10],Validation Acc: 71.72\n",
      "Epoch: [4/10],Validation Acc: 74.76\n",
      "Epoch: [5/10],Validation Acc: 76.66\n",
      "Epoch: [6/10],Validation Acc: 74.9\n",
      "Epoch: [7/10],Validation Acc: 76.12\n",
      "Epoch: [8/10],Validation Acc: 78.42\n",
      "Epoch: [9/10],Validation Acc: 78.38\n",
      "Epoch: [10/10],Validation Acc: 78.04\n"
     ]
    },
    {
     "ename": "KeyboardInterrupt",
     "evalue": "",
     "output_type": "error",
     "traceback": [
      "\u001b[0;31m---------------------------------------------------------------------------\u001b[0m",
      "\u001b[0;31mKeyboardInterrupt\u001b[0m                         Traceback (most recent call last)",
      "\u001b[0;32m<ipython-input-804-9999ed2db04e>\u001b[0m in \u001b[0;36m<module>\u001b[0;34m()\u001b[0m\n\u001b[1;32m     11\u001b[0m \u001b[0mloss_history\u001b[0m \u001b[0;34m=\u001b[0m \u001b[0;34m[\u001b[0m\u001b[0;34m]\u001b[0m\u001b[0;34m\u001b[0m\u001b[0m\n\u001b[1;32m     12\u001b[0m \u001b[0;32mfor\u001b[0m \u001b[0mepoch\u001b[0m \u001b[0;32min\u001b[0m \u001b[0mrange\u001b[0m\u001b[0;34m(\u001b[0m\u001b[0mnum_epochs\u001b[0m\u001b[0;34m)\u001b[0m\u001b[0;34m:\u001b[0m\u001b[0;34m\u001b[0m\u001b[0m\n\u001b[0;32m---> 13\u001b[0;31m     \u001b[0mtrain_loss\u001b[0m \u001b[0;34m=\u001b[0m \u001b[0mrun_model\u001b[0m\u001b[0;34m(\u001b[0m\u001b[0mnum_epochs\u001b[0m\u001b[0;34m,\u001b[0m\u001b[0mcomb_train_loader\u001b[0m\u001b[0;34m,\u001b[0m\u001b[0mmodel\u001b[0m\u001b[0;34m,\u001b[0m\u001b[0moptimizer\u001b[0m\u001b[0;34m,\u001b[0m\u001b[0mcomb_vali_loader\u001b[0m\u001b[0;34m)\u001b[0m\u001b[0;34m\u001b[0m\u001b[0m\n\u001b[0m\u001b[1;32m     14\u001b[0m     \u001b[0mloss_history\u001b[0m\u001b[0;34m.\u001b[0m\u001b[0mappend\u001b[0m\u001b[0;34m(\u001b[0m\u001b[0mtrain_loss\u001b[0m\u001b[0;34m)\u001b[0m\u001b[0;34m\u001b[0m\u001b[0m\n",
      "\u001b[0;32m<ipython-input-621-1f77246985db>\u001b[0m in \u001b[0;36mrun_model\u001b[0;34m(num_epochs, train_loader, model, optimizer, vali_loader)\u001b[0m\n\u001b[1;32m     11\u001b[0m             \u001b[0moutputs\u001b[0m \u001b[0;34m=\u001b[0m \u001b[0mmodel\u001b[0m\u001b[0;34m(\u001b[0m\u001b[0mdata_batch\u001b[0m\u001b[0;34m,\u001b[0m \u001b[0mlength_batch\u001b[0m\u001b[0;34m)\u001b[0m\u001b[0;34m\u001b[0m\u001b[0m\n\u001b[1;32m     12\u001b[0m             \u001b[0mloss\u001b[0m \u001b[0;34m=\u001b[0m \u001b[0mcriterion\u001b[0m\u001b[0;34m(\u001b[0m\u001b[0moutputs\u001b[0m\u001b[0;34m,\u001b[0m \u001b[0mlabel_batch\u001b[0m\u001b[0;34m)\u001b[0m\u001b[0;34m\u001b[0m\u001b[0m\n\u001b[0;32m---> 13\u001b[0;31m             \u001b[0mloss\u001b[0m\u001b[0;34m.\u001b[0m\u001b[0mbackward\u001b[0m\u001b[0;34m(\u001b[0m\u001b[0;34m)\u001b[0m\u001b[0;34m\u001b[0m\u001b[0m\n\u001b[0m\u001b[1;32m     14\u001b[0m             \u001b[0moptimizer\u001b[0m\u001b[0;34m.\u001b[0m\u001b[0mstep\u001b[0m\u001b[0;34m(\u001b[0m\u001b[0;34m)\u001b[0m\u001b[0;34m\u001b[0m\u001b[0m\n\u001b[1;32m     15\u001b[0m \u001b[0;34m\u001b[0m\u001b[0m\n",
      "\u001b[0;32m~/miniconda3/envs/nlp/lib/python3.6/site-packages/torch/tensor.py\u001b[0m in \u001b[0;36mbackward\u001b[0;34m(self, gradient, retain_graph, create_graph)\u001b[0m\n\u001b[1;32m     91\u001b[0m                 \u001b[0mproducts\u001b[0m\u001b[0;34m.\u001b[0m \u001b[0mDefaults\u001b[0m \u001b[0mto\u001b[0m\u001b[0;31m \u001b[0m\u001b[0;31m`\u001b[0m\u001b[0;31m`\u001b[0m\u001b[0;32mFalse\u001b[0m\u001b[0;31m`\u001b[0m\u001b[0;31m`\u001b[0m\u001b[0;34m.\u001b[0m\u001b[0;34m\u001b[0m\u001b[0m\n\u001b[1;32m     92\u001b[0m         \"\"\"\n\u001b[0;32m---> 93\u001b[0;31m         \u001b[0mtorch\u001b[0m\u001b[0;34m.\u001b[0m\u001b[0mautograd\u001b[0m\u001b[0;34m.\u001b[0m\u001b[0mbackward\u001b[0m\u001b[0;34m(\u001b[0m\u001b[0mself\u001b[0m\u001b[0;34m,\u001b[0m \u001b[0mgradient\u001b[0m\u001b[0;34m,\u001b[0m \u001b[0mretain_graph\u001b[0m\u001b[0;34m,\u001b[0m \u001b[0mcreate_graph\u001b[0m\u001b[0;34m)\u001b[0m\u001b[0;34m\u001b[0m\u001b[0m\n\u001b[0m\u001b[1;32m     94\u001b[0m \u001b[0;34m\u001b[0m\u001b[0m\n\u001b[1;32m     95\u001b[0m     \u001b[0;32mdef\u001b[0m \u001b[0mregister_hook\u001b[0m\u001b[0;34m(\u001b[0m\u001b[0mself\u001b[0m\u001b[0;34m,\u001b[0m \u001b[0mhook\u001b[0m\u001b[0;34m)\u001b[0m\u001b[0;34m:\u001b[0m\u001b[0;34m\u001b[0m\u001b[0m\n",
      "\u001b[0;32m~/miniconda3/envs/nlp/lib/python3.6/site-packages/torch/autograd/__init__.py\u001b[0m in \u001b[0;36mbackward\u001b[0;34m(tensors, grad_tensors, retain_graph, create_graph, grad_variables)\u001b[0m\n\u001b[1;32m     88\u001b[0m     Variable._execution_engine.run_backward(\n\u001b[1;32m     89\u001b[0m         \u001b[0mtensors\u001b[0m\u001b[0;34m,\u001b[0m \u001b[0mgrad_tensors\u001b[0m\u001b[0;34m,\u001b[0m \u001b[0mretain_graph\u001b[0m\u001b[0;34m,\u001b[0m \u001b[0mcreate_graph\u001b[0m\u001b[0;34m,\u001b[0m\u001b[0;34m\u001b[0m\u001b[0m\n\u001b[0;32m---> 90\u001b[0;31m         allow_unreachable=True)  # allow_unreachable flag\n\u001b[0m\u001b[1;32m     91\u001b[0m \u001b[0;34m\u001b[0m\u001b[0m\n\u001b[1;32m     92\u001b[0m \u001b[0;34m\u001b[0m\u001b[0m\n",
      "\u001b[0;31mKeyboardInterrupt\u001b[0m: "
     ]
    }
   ],
   "source": [
    "emb_dim = 500\n",
    "model = BagOfWords(len(id2token_comb), emb_dim)\n",
    "learning_rate = 0.01\n",
    "num_epochs = 10 # number epoch to train\n",
    "\n",
    "# Criterion and Optimizer\n",
    "criterion = torch.nn.CrossEntropyLoss()\n",
    "optimizer = torch.optim.Adam(model.parameters(), lr=learning_rate)\n",
    "\n",
    "    \n",
    "loss_history = []    \n",
    "for epoch in range(num_epochs):\n",
    "    train_loss = run_model(num_epochs,comb_train_loader,model,optimizer,comb_vali_loader)\n",
    "    loss_history.append(train_loss)"
   ]
  },
  {
   "cell_type": "markdown",
   "metadata": {},
   "source": [
    "    Print out correct and incorrect predictions"
   ]
  },
  {
   "cell_type": "code",
   "execution_count": 854,
   "metadata": {},
   "outputs": [],
   "source": [
    "predictions = []\n",
    "model.eval()\n",
    "data_list = []\n",
    "predicted_value = []\n",
    "total = 0\n",
    "correct = 0\n",
    "\n",
    "for data, lengths, labels in comb_vali_loader:\n",
    "    data_batch, length_batch, label_batch = data, lengths, labels\n",
    "    outputs = F.softmax(model(data_batch, length_batch), dim=1)\n",
    "    predicted = outputs.max(1, keepdim=True)[1]\n",
    "    loss = criterion(outputs, label_batch)\n",
    "    \n",
    "    data_list.append(data)\n",
    "    predictions.append(predicted.eq(labels.view_as(predicted)))\n",
    "    predicted_value.append(predicted)\n",
    "    \n",
    "    total += labels.size(0)\n",
    "    correct += predicted.eq(labels.view_as(predicted)).sum().item()\n",
    "    \n",
    "    acc = (100 * correct / total)"
   ]
  },
  {
   "cell_type": "code",
   "execution_count": 855,
   "metadata": {},
   "outputs": [],
   "source": [
    "correct = []\n",
    "incorrect = []\n",
    "for j in range(len(predictions)):\n",
    "    for i in range(len(predictions[j])):\n",
    "        if predictions[j][i].item() == 1:\n",
    "            correct.append([j,i])\n",
    "        if predictions[j][i].item() == 0:\n",
    "            incorrect.append([j,i])\n",
    "        "
   ]
  },
  {
   "cell_type": "code",
   "execution_count": 863,
   "metadata": {},
   "outputs": [
    {
     "name": "stdout",
     "output_type": "stream",
     "text": [
      "True prediction as 0.0\n",
      "Predicted value as 0\n",
      "I basically skimmed through the movie but just enough to catch watch the plot was about. To tell you the truth it was kind of boring to me and at some spots it didn't make sense. The only reason I watched this movie in the first place was to see CHACE CRAWFORD!!! He is so hot, but in this movie his hair was kind of weird. But still hot.<br /><br />However, despite how hot CHACE is, it really did not make up for the film. I guess the plot isn't that bad but what really threw me over was the fact that they cuss in like every sentence. Is it that hard to express your anger without saying the F word every time?The cussing was annoying and the whole flashy, camera shaking thing gave me a headache.<br /><br />All in all, although the plot was OK, I found the film to be a bore and over dramatic. That's why I only cut to scenes with CHACE in it. LOL Anyways, not worth renting unless your a die-hard fan of a specific cast member like I was. Oh yeah the cast was Hot. The girls were HOT!!! But CHACE IS THE BEST!!\n",
      "True prediction as 0.0\n",
      "Predicted value as 0\n",
      "I suppose that today this film has relevance because it was an early Sofia Loren film. She was 19 years old when the film was made in 1953.<br /><br />I viewed this film because I wanted to see some of Sofia Loren's early work. I was surprised when she came on camera having had her skin bronzed over in brown makeup to resemble an Ethiopian princess. Surely, today, this would have been viewed as a slur and to be avoided in movie making. It actually became annoying watching Ms. Loren in skin color paint throughout the film.<br /><br />Yes, this film would have been better made if the real opera singers had made this movie. Then, the singing and the actual facial gestures of the real artists would have been apparent. I discount the comments by others about whether the real opera singers are older and heavier in weight.<br /><br />As beautiful as Ms. Loren was at age 19 and still is today, the film would have been better received as though it were being performed on the stage. After all, we don't see beautiful young people on stage with \"old opera singers\" back stage singing from behind the curtain! Do not discount the success of using heavy-weight opera singers. One only has to refer to the most artistically produced television commercial for the J. G. Wentworth Company with the opera singers on stage singing so professionally the praises of the company's product. This is one of the best and entertaining TV commercials produced to date.<br /><br />The quality of the movie print also makes this production of a somewhat lesser quality. The color ink has faded much and that can not be helped.<br /><br />To improve this film on DVD the production company should add English language subtitles so that we, who do not speak Italian, can know what the lyrics are saying. It would help the story and teach it more than the narrator giving 30 seconds of introduction to the scenes.<br /><br />Watch this film not because of the story of Aida nor the fact that this is an opera. Aside from Ms. Sofia Loren none of her co-actors are known nor remembered by this writer. Instead, watch this movie if you are a fan of Ms. Loren and wish to see her at age 19 -- no matter what the production is.<br /><br />Larry from Illinois\n",
      "True prediction as 0.0\n",
      "Predicted value as 0\n",
      "Wow...sheer brilliance.<br /><br />Turning a thriller/suspense/horror into comedy.<br /><br />After watching this, I never laughed so hard at a horror movie before...a ridiculous plot with 3 characters that were just insanely developed - either not written in depth or too much depth.<br /><br />If you want to watch an absolutely written horror movie with stupid dialog, messed up plot, useless scenes, wasted characters, bad sound and lousy development overall, then this is the one to watch.<br /><br />Be sure to keep focused for the classic \"food processor\" scene and the totally inept police investigation scenes.<br /><br />This is a remarkable new low in screen performance and writing and to sit through it for the entire duration makes you either stupid, daring or brave.\n"
     ]
    }
   ],
   "source": [
    "reviews = []\n",
    "true_value = []\n",
    "predicted_list = []\n",
    "\n",
    "for v in vali_data_indices_comb:\n",
    "    for pair in correct[:3]:\n",
    "        if v[:200] == data_list[pair[0]][pair[1]].tolist():\n",
    "            ix = vali_data_indices_comb.index(v)\n",
    "            print(\"True prediction as {}\".format(vali.iloc[ix].y))\n",
    "            print(\"Predicted value as {}\".format(predicted_value[pair[0]][pair[1]].item()))\n",
    "            print(vali.iloc[ix].reviews)\n",
    "            reviews.append(vali.iloc[ix].reviews)\n",
    "            true_value.append(vali.iloc[ix].y)\n",
    "            predicted_list.append(predicted_value[pair[0]][pair[1]].item())\n",
    "            "
   ]
  },
  {
   "cell_type": "code",
   "execution_count": 864,
   "metadata": {},
   "outputs": [
    {
     "data": {
      "text/html": [
       "<div>\n",
       "<style scoped>\n",
       "    .dataframe tbody tr th:only-of-type {\n",
       "        vertical-align: middle;\n",
       "    }\n",
       "\n",
       "    .dataframe tbody tr th {\n",
       "        vertical-align: top;\n",
       "    }\n",
       "\n",
       "    .dataframe thead th {\n",
       "        text-align: right;\n",
       "    }\n",
       "</style>\n",
       "<table border=\"1\" class=\"dataframe\">\n",
       "  <thead>\n",
       "    <tr style=\"text-align: right;\">\n",
       "      <th></th>\n",
       "      <th>reviews</th>\n",
       "      <th>predicted value</th>\n",
       "      <th>true value</th>\n",
       "    </tr>\n",
       "  </thead>\n",
       "  <tbody>\n",
       "    <tr>\n",
       "      <th>0</th>\n",
       "      <td>I basically skimmed through the movie but just...</td>\n",
       "      <td>0</td>\n",
       "      <td>0.0</td>\n",
       "    </tr>\n",
       "    <tr>\n",
       "      <th>1</th>\n",
       "      <td>I suppose that today this film has relevance b...</td>\n",
       "      <td>0</td>\n",
       "      <td>0.0</td>\n",
       "    </tr>\n",
       "    <tr>\n",
       "      <th>2</th>\n",
       "      <td>Wow...sheer brilliance.&lt;br /&gt;&lt;br /&gt;Turning a t...</td>\n",
       "      <td>0</td>\n",
       "      <td>0.0</td>\n",
       "    </tr>\n",
       "  </tbody>\n",
       "</table>\n",
       "</div>"
      ],
      "text/plain": [
       "                                             reviews  predicted value  \\\n",
       "0  I basically skimmed through the movie but just...                0   \n",
       "1  I suppose that today this film has relevance b...                0   \n",
       "2  Wow...sheer brilliance.<br /><br />Turning a t...                0   \n",
       "\n",
       "   true value  \n",
       "0         0.0  \n",
       "1         0.0  \n",
       "2         0.0  "
      ]
     },
     "execution_count": 864,
     "metadata": {},
     "output_type": "execute_result"
    }
   ],
   "source": [
    "pd.DataFrame({'reviews':reviews,\"predicted value\":predicted_list,'true value':true_value})"
   ]
  },
  {
   "cell_type": "code",
   "execution_count": 861,
   "metadata": {},
   "outputs": [
    {
     "name": "stdout",
     "output_type": "stream",
     "text": [
      "True prediction ss 0.0\n",
      "Predicted value as 1\n",
      "In his brief 40 years on Earth, author Jack London managed to cram as much adventure and incident as would seem possible. This 90-minute film, purportedly a biography of the man's life but patently fictionalized, doesn't even scratch the surface, and remains a story very ripe for a modern-day retelling. Here, Michael O'Shea, in one of his first roles, portrays London, and his performance is both rugged and sympathetic. He is not the problem here. Nor is a young and very beautiful Susan Hayward, playing his future wife, Charmian, whose biography on London is the \"basis\" for this film. London's life has here been broken down into a series of episodes, which the film skips lightly through. So we have brief incidents with London as an oyster pirate, a sealer in the Bering Sea, a gold prospector in the Yukon and a correspondent during the Russo-Japanese War...colorful events, for sure, but hardly given anything like in-depth treatment. And Alfred Santell's direction (he also directed one of Susan's first films, \"Our Leading Citizen,\" in 1939) is lackadaisical at best. Making things rougher here is a very poor-quality DVD, with a crummy-looking print source and hissy sound. Perhaps the best thing about this movie rental, for me, was one of the DVD's extras: a catalog of all the Alpha Video films, featuring hundreds and hundreds of full-color movie posters. Let's just hope that these films are in better shape than \"Jack London\"!\n",
      "True prediction ss 0.0\n",
      "Predicted value as 1\n",
      "The Three Stooges in a feature length western comedy-musical? Perhaps \"Rockin' in the Rockies\" was meant to combine the Stooges comedy short with the western musical, in a matinée; if so, this was a pleasant way to break up a Saturday afternoon. Jay Kirby (as Rusty) is a handsome young hero; and, Mary Beth Hughes (as the blonde June) and Gladys Blake (as the brunette Betty) are pretty women. The Hoosier Hotshots are a harmonious group; their songs are quite tuneful; however, this is the 1940s, not the 1950s, so the film doesn't exactly \"rock\". There are a few laughs; but the Stooges' brand of humor is more subdued than usual. The talking horse is also underutilized. <br /><br />**** Rockin' in the Rockies (4/17/45) Vernon Keays ~ Moe Howard, Larry Fine, Curly Howard, Mary Beth Hughes\n",
      "True prediction ss 0.0\n",
      "Predicted value as 1\n",
      "As long as you can suffer it! If you like watching people waking up, getting up, getting dressed, having a shower, preparing dinner, watching each other, having sex in the dark, then going back to bed to sleep... if you like tacky flats, narrow bedrooms and kitchens, long minutes of silence.... if you like getting bored for two hours, feeling the thrill of \"real intimate false art\", then you will like it. But if you don't, just try to see a good movie, there are thousands. \"As long as you are here\", but do we want to stay? This German movie got the award of the Torino gay film festival: Italian journalists still don't understand why the jury took such a bad decision, as the festival presented lot of talented movies. Maybe to be nice with a German, as they don't often get awards? Well, \"The Lives of Others\" did... but this one is excellent but not gay. So maybe it is a question of fashion. Germans are they \"in\" again? No matter what? Or maybe only for a hustler's glance of some directors?\n"
     ]
    }
   ],
   "source": [
    "reviews = []\n",
    "true_value = []\n",
    "predicted_list = []\n",
    "\n",
    "for v in vali_data_indices_comb:\n",
    "    for pair in incorrect[:3]:\n",
    "        if v[:200] == data_list[pair[0]][pair[1]].tolist():\n",
    "            ix = vali_data_indices_comb.index(v)\n",
    "            print(\"True prediction ss {}\".format(vali.iloc[ix].y))\n",
    "            print(\"Predicted value as {}\".format(predicted_value[pair[0]][pair[1]].item()))\n",
    "            print(vali.iloc[ix].reviews)\n",
    "            reviews.append(vali.iloc[ix].reviews)\n",
    "            true_value.append(vali.iloc[ix].y)\n",
    "            predicted_list.append(predicted_value[pair[0]][pair[1]].item())\n",
    "            "
   ]
  },
  {
   "cell_type": "code",
   "execution_count": 862,
   "metadata": {},
   "outputs": [
    {
     "data": {
      "text/html": [
       "<div>\n",
       "<style scoped>\n",
       "    .dataframe tbody tr th:only-of-type {\n",
       "        vertical-align: middle;\n",
       "    }\n",
       "\n",
       "    .dataframe tbody tr th {\n",
       "        vertical-align: top;\n",
       "    }\n",
       "\n",
       "    .dataframe thead th {\n",
       "        text-align: right;\n",
       "    }\n",
       "</style>\n",
       "<table border=\"1\" class=\"dataframe\">\n",
       "  <thead>\n",
       "    <tr style=\"text-align: right;\">\n",
       "      <th></th>\n",
       "      <th>reviews</th>\n",
       "      <th>predicted value</th>\n",
       "      <th>true value</th>\n",
       "    </tr>\n",
       "  </thead>\n",
       "  <tbody>\n",
       "    <tr>\n",
       "      <th>0</th>\n",
       "      <td>In his brief 40 years on Earth, author Jack Lo...</td>\n",
       "      <td>1</td>\n",
       "      <td>0.0</td>\n",
       "    </tr>\n",
       "    <tr>\n",
       "      <th>1</th>\n",
       "      <td>The Three Stooges in a feature length western ...</td>\n",
       "      <td>1</td>\n",
       "      <td>0.0</td>\n",
       "    </tr>\n",
       "    <tr>\n",
       "      <th>2</th>\n",
       "      <td>As long as you can suffer it! If you like watc...</td>\n",
       "      <td>1</td>\n",
       "      <td>0.0</td>\n",
       "    </tr>\n",
       "  </tbody>\n",
       "</table>\n",
       "</div>"
      ],
      "text/plain": [
       "                                             reviews  predicted value  \\\n",
       "0  In his brief 40 years on Earth, author Jack Lo...                1   \n",
       "1  The Three Stooges in a feature length western ...                1   \n",
       "2  As long as you can suffer it! If you like watc...                1   \n",
       "\n",
       "   true value  \n",
       "0         0.0  \n",
       "1         0.0  \n",
       "2         0.0  "
      ]
     },
     "execution_count": 862,
     "metadata": {},
     "output_type": "execute_result"
    }
   ],
   "source": [
    "pd.DataFrame({'reviews':reviews,\"predicted value\":predicted_list,'true value':true_value})"
   ]
  },
  {
   "cell_type": "code",
   "execution_count": 812,
   "metadata": {},
   "outputs": [
    {
     "name": "stdout",
     "output_type": "stream",
     "text": [
      "After training for 10 epochs\n",
      "Val Acc 80.68\n",
      "Test Acc 79.528\n"
     ]
    }
   ],
   "source": [
    "print(\"After training for {} epochs\".format(num_epochs))\n",
    "print (\"Val Acc {0}\".format(test_model(comb_vali_loader, model)[0]))\n",
    "print (\"Test Acc {}\".format(test_model(comb_test_loader, model)[0]))"
   ]
  },
  {
   "cell_type": "code",
   "execution_count": null,
   "metadata": {},
   "outputs": [],
   "source": []
  }
 ],
 "metadata": {
  "kernelspec": {
   "display_name": "Python 3",
   "language": "python",
   "name": "python3"
  },
  "language_info": {
   "codemirror_mode": {
    "name": "ipython",
    "version": 3
   },
   "file_extension": ".py",
   "mimetype": "text/x-python",
   "name": "python",
   "nbconvert_exporter": "python",
   "pygments_lexer": "ipython3",
   "version": "3.6.2"
  }
 },
 "nbformat": 4,
 "nbformat_minor": 2
}
